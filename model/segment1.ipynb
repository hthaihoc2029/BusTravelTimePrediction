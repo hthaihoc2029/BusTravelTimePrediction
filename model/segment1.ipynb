{
 "cells": [
  {
   "cell_type": "code",
   "execution_count": 19,
   "outputs": [],
   "source": [
    "import math\n",
    "import numpy as np\n",
    "import matplotlib.pyplot as plt\n",
    "import pandas as pd\n",
    "from sklearn.svm import SVR\n",
    "from sklearn.neighbors import KNeighborsRegressor\n",
    "from sklearn.ensemble import RandomForestRegressor\n",
    "from sklearn.model_selection import train_test_split\n",
    "from sklearn.preprocessing import MinMaxScaler, StandardScaler, LabelEncoder\n",
    "from sklearn.metrics import mean_squared_error, mean_absolute_error, r2_score"
   ],
   "metadata": {
    "collapsed": false,
    "ExecuteTime": {
     "end_time": "2023-10-17T13:57:10.551953Z",
     "start_time": "2023-10-17T13:57:10.546229Z"
    }
   },
   "id": "c0b445addfb32c0f"
  },
  {
   "cell_type": "code",
   "execution_count": 20,
   "outputs": [],
   "source": [
    "SEGMENT = 1"
   ],
   "metadata": {
    "collapsed": false,
    "ExecuteTime": {
     "end_time": "2023-10-17T13:57:10.576018Z",
     "start_time": "2023-10-17T13:57:10.550413Z"
    }
   },
   "id": "4cfc45279f4b82d"
  },
  {
   "cell_type": "code",
   "execution_count": 21,
   "outputs": [
    {
     "data": {
      "text/plain": "      Unnamed: 0  trip_id  deviceid  direction  segment        date  \\\n0              0      1.0     262.0        1.0      1.0  2021-10-01   \n1             15      8.0     274.0        1.0      1.0  2021-10-01   \n2             30     10.0     123.0        1.0      1.0  2021-10-01   \n3             39     15.0     262.0        1.0      1.0  2021-10-01   \n4             54     21.0     274.0        1.0      1.0  2021-10-01   \n...          ...      ...       ...        ...      ...         ...   \n7040      171189  25364.0    1166.0        1.0      1.0  2022-11-01   \n7041      171204  25366.0    1358.0        1.0      1.0  2022-11-01   \n7042      171217  25368.0     284.0        1.0      1.0  2022-11-01   \n7043      171232  25369.0     513.0        1.0      1.0  2022-11-01   \n7044      171247  25370.0     121.0        1.0      1.0  2022-11-01   \n\n     start_time  end_time  run_time_in_seconds  length  weather date_in_week  \\\n0      06:39:49  06:40:58                 69.0  0.6261        1       Friday   \n1      08:40:27  08:41:41                 74.0  0.6261        1       Friday   \n2      09:11:33  09:13:36                123.0  0.6261        1       Friday   \n3      10:21:38  10:23:06                 88.0  0.6261        1       Friday   \n4      11:51:31  11:53:44                133.0  0.6261        1       Friday   \n...         ...       ...                  ...     ...      ...          ...   \n7040   16:40:56  16:43:10                134.0  0.6300        1      Tuesday   \n7041   17:00:34  17:02:49                135.0  0.6300        1      Tuesday   \n7042   17:51:04  17:53:40                156.0  0.6300        1      Tuesday   \n7043   18:08:04  18:10:01                117.0  0.6300        1      Tuesday   \n7044   18:20:26  18:22:05                 99.0  0.6300        1      Tuesday   \n\n      hour time_interval part_of_day  \n0        6           6-7     morning  \n1        8           8-9     morning  \n2        9          9-10     morning  \n3       10         10-11     morning  \n4       11         11-12     morning  \n...    ...           ...         ...  \n7040    16         16-17   afternoon  \n7041    17         17-18   afternoon  \n7042    17         17-18   afternoon  \n7043    18         18-19   afternoon  \n7044    18         18-19   afternoon  \n\n[7045 rows x 15 columns]",
      "text/html": "<div>\n<style scoped>\n    .dataframe tbody tr th:only-of-type {\n        vertical-align: middle;\n    }\n\n    .dataframe tbody tr th {\n        vertical-align: top;\n    }\n\n    .dataframe thead th {\n        text-align: right;\n    }\n</style>\n<table border=\"1\" class=\"dataframe\">\n  <thead>\n    <tr style=\"text-align: right;\">\n      <th></th>\n      <th>Unnamed: 0</th>\n      <th>trip_id</th>\n      <th>deviceid</th>\n      <th>direction</th>\n      <th>segment</th>\n      <th>date</th>\n      <th>start_time</th>\n      <th>end_time</th>\n      <th>run_time_in_seconds</th>\n      <th>length</th>\n      <th>weather</th>\n      <th>date_in_week</th>\n      <th>hour</th>\n      <th>time_interval</th>\n      <th>part_of_day</th>\n    </tr>\n  </thead>\n  <tbody>\n    <tr>\n      <th>0</th>\n      <td>0</td>\n      <td>1.0</td>\n      <td>262.0</td>\n      <td>1.0</td>\n      <td>1.0</td>\n      <td>2021-10-01</td>\n      <td>06:39:49</td>\n      <td>06:40:58</td>\n      <td>69.0</td>\n      <td>0.6261</td>\n      <td>1</td>\n      <td>Friday</td>\n      <td>6</td>\n      <td>6-7</td>\n      <td>morning</td>\n    </tr>\n    <tr>\n      <th>1</th>\n      <td>15</td>\n      <td>8.0</td>\n      <td>274.0</td>\n      <td>1.0</td>\n      <td>1.0</td>\n      <td>2021-10-01</td>\n      <td>08:40:27</td>\n      <td>08:41:41</td>\n      <td>74.0</td>\n      <td>0.6261</td>\n      <td>1</td>\n      <td>Friday</td>\n      <td>8</td>\n      <td>8-9</td>\n      <td>morning</td>\n    </tr>\n    <tr>\n      <th>2</th>\n      <td>30</td>\n      <td>10.0</td>\n      <td>123.0</td>\n      <td>1.0</td>\n      <td>1.0</td>\n      <td>2021-10-01</td>\n      <td>09:11:33</td>\n      <td>09:13:36</td>\n      <td>123.0</td>\n      <td>0.6261</td>\n      <td>1</td>\n      <td>Friday</td>\n      <td>9</td>\n      <td>9-10</td>\n      <td>morning</td>\n    </tr>\n    <tr>\n      <th>3</th>\n      <td>39</td>\n      <td>15.0</td>\n      <td>262.0</td>\n      <td>1.0</td>\n      <td>1.0</td>\n      <td>2021-10-01</td>\n      <td>10:21:38</td>\n      <td>10:23:06</td>\n      <td>88.0</td>\n      <td>0.6261</td>\n      <td>1</td>\n      <td>Friday</td>\n      <td>10</td>\n      <td>10-11</td>\n      <td>morning</td>\n    </tr>\n    <tr>\n      <th>4</th>\n      <td>54</td>\n      <td>21.0</td>\n      <td>274.0</td>\n      <td>1.0</td>\n      <td>1.0</td>\n      <td>2021-10-01</td>\n      <td>11:51:31</td>\n      <td>11:53:44</td>\n      <td>133.0</td>\n      <td>0.6261</td>\n      <td>1</td>\n      <td>Friday</td>\n      <td>11</td>\n      <td>11-12</td>\n      <td>morning</td>\n    </tr>\n    <tr>\n      <th>...</th>\n      <td>...</td>\n      <td>...</td>\n      <td>...</td>\n      <td>...</td>\n      <td>...</td>\n      <td>...</td>\n      <td>...</td>\n      <td>...</td>\n      <td>...</td>\n      <td>...</td>\n      <td>...</td>\n      <td>...</td>\n      <td>...</td>\n      <td>...</td>\n      <td>...</td>\n    </tr>\n    <tr>\n      <th>7040</th>\n      <td>171189</td>\n      <td>25364.0</td>\n      <td>1166.0</td>\n      <td>1.0</td>\n      <td>1.0</td>\n      <td>2022-11-01</td>\n      <td>16:40:56</td>\n      <td>16:43:10</td>\n      <td>134.0</td>\n      <td>0.6300</td>\n      <td>1</td>\n      <td>Tuesday</td>\n      <td>16</td>\n      <td>16-17</td>\n      <td>afternoon</td>\n    </tr>\n    <tr>\n      <th>7041</th>\n      <td>171204</td>\n      <td>25366.0</td>\n      <td>1358.0</td>\n      <td>1.0</td>\n      <td>1.0</td>\n      <td>2022-11-01</td>\n      <td>17:00:34</td>\n      <td>17:02:49</td>\n      <td>135.0</td>\n      <td>0.6300</td>\n      <td>1</td>\n      <td>Tuesday</td>\n      <td>17</td>\n      <td>17-18</td>\n      <td>afternoon</td>\n    </tr>\n    <tr>\n      <th>7042</th>\n      <td>171217</td>\n      <td>25368.0</td>\n      <td>284.0</td>\n      <td>1.0</td>\n      <td>1.0</td>\n      <td>2022-11-01</td>\n      <td>17:51:04</td>\n      <td>17:53:40</td>\n      <td>156.0</td>\n      <td>0.6300</td>\n      <td>1</td>\n      <td>Tuesday</td>\n      <td>17</td>\n      <td>17-18</td>\n      <td>afternoon</td>\n    </tr>\n    <tr>\n      <th>7043</th>\n      <td>171232</td>\n      <td>25369.0</td>\n      <td>513.0</td>\n      <td>1.0</td>\n      <td>1.0</td>\n      <td>2022-11-01</td>\n      <td>18:08:04</td>\n      <td>18:10:01</td>\n      <td>117.0</td>\n      <td>0.6300</td>\n      <td>1</td>\n      <td>Tuesday</td>\n      <td>18</td>\n      <td>18-19</td>\n      <td>afternoon</td>\n    </tr>\n    <tr>\n      <th>7044</th>\n      <td>171247</td>\n      <td>25370.0</td>\n      <td>121.0</td>\n      <td>1.0</td>\n      <td>1.0</td>\n      <td>2022-11-01</td>\n      <td>18:20:26</td>\n      <td>18:22:05</td>\n      <td>99.0</td>\n      <td>0.6300</td>\n      <td>1</td>\n      <td>Tuesday</td>\n      <td>18</td>\n      <td>18-19</td>\n      <td>afternoon</td>\n    </tr>\n  </tbody>\n</table>\n<p>7045 rows × 15 columns</p>\n</div>"
     },
     "execution_count": 21,
     "metadata": {},
     "output_type": "execute_result"
    }
   ],
   "source": [
    "df = pd.read_csv(f'../preprocess/all_segments/segment{SEGMENT}.csv')\n",
    "\n",
    "df.dropna(inplace=True)\n",
    "df"
   ],
   "metadata": {
    "collapsed": false,
    "ExecuteTime": {
     "end_time": "2023-10-17T13:57:10.583069Z",
     "start_time": "2023-10-17T13:57:10.553961Z"
    }
   },
   "id": "bf2021d7fcc29d70"
  },
  {
   "cell_type": "code",
   "execution_count": 22,
   "outputs": [
    {
     "data": {
      "text/plain": "      Unnamed: 0  trip_id  deviceid  direction  segment        date  \\\n0              0      1.0     262.0        1.0      1.0  2021-10-01   \n1             15      8.0     274.0        1.0      1.0  2021-10-01   \n2             30     10.0     123.0        1.0      1.0  2021-10-01   \n3             39     15.0     262.0        1.0      1.0  2021-10-01   \n4             54     21.0     274.0        1.0      1.0  2021-10-01   \n...          ...      ...       ...        ...      ...         ...   \n7040      171189  25364.0    1166.0        1.0      1.0  2022-11-01   \n7041      171204  25366.0    1358.0        1.0      1.0  2022-11-01   \n7042      171217  25368.0     284.0        1.0      1.0  2022-11-01   \n7043      171232  25369.0     513.0        1.0      1.0  2022-11-01   \n7044      171247  25370.0     121.0        1.0      1.0  2022-11-01   \n\n     start_time  end_time  run_time_in_seconds  length  ...  hour  \\\n0      06:39:49  06:40:58                 69.0  0.6261  ...     6   \n1      08:40:27  08:41:41                 74.0  0.6261  ...     8   \n2      09:11:33  09:13:36                123.0  0.6261  ...     9   \n3      10:21:38  10:23:06                 88.0  0.6261  ...    10   \n4      11:51:31  11:53:44                133.0  0.6261  ...    11   \n...         ...       ...                  ...     ...  ...   ...   \n7040   16:40:56  16:43:10                134.0  0.6300  ...    16   \n7041   17:00:34  17:02:49                135.0  0.6300  ...    17   \n7042   17:51:04  17:53:40                156.0  0.6300  ...    17   \n7043   18:08:04  18:10:01                117.0  0.6300  ...    18   \n7044   18:20:26  18:22:05                 99.0  0.6300  ...    18   \n\n      time_interval part_of_day  date_in_week_Friday  date_in_week_Monday  \\\n0               6-7           0                 True                False   \n1               8-9           0                 True                False   \n2              9-10           0                 True                False   \n3             10-11           0                 True                False   \n4             11-12           0                 True                False   \n...             ...         ...                  ...                  ...   \n7040          16-17           1                False                False   \n7041          17-18           1                False                False   \n7042          17-18           1                False                False   \n7043          18-19           1                False                False   \n7044          18-19           1                False                False   \n\n      date_in_week_Saturday  date_in_week_Sunday  date_in_week_Thursday  \\\n0                     False                False                  False   \n1                     False                False                  False   \n2                     False                False                  False   \n3                     False                False                  False   \n4                     False                False                  False   \n...                     ...                  ...                    ...   \n7040                  False                False                  False   \n7041                  False                False                  False   \n7042                  False                False                  False   \n7043                  False                False                  False   \n7044                  False                False                  False   \n\n      date_in_week_Tuesday  date_in_week_Wednesday  \n0                    False                   False  \n1                    False                   False  \n2                    False                   False  \n3                    False                   False  \n4                    False                   False  \n...                    ...                     ...  \n7040                  True                   False  \n7041                  True                   False  \n7042                  True                   False  \n7043                  True                   False  \n7044                  True                   False  \n\n[7045 rows x 21 columns]",
      "text/html": "<div>\n<style scoped>\n    .dataframe tbody tr th:only-of-type {\n        vertical-align: middle;\n    }\n\n    .dataframe tbody tr th {\n        vertical-align: top;\n    }\n\n    .dataframe thead th {\n        text-align: right;\n    }\n</style>\n<table border=\"1\" class=\"dataframe\">\n  <thead>\n    <tr style=\"text-align: right;\">\n      <th></th>\n      <th>Unnamed: 0</th>\n      <th>trip_id</th>\n      <th>deviceid</th>\n      <th>direction</th>\n      <th>segment</th>\n      <th>date</th>\n      <th>start_time</th>\n      <th>end_time</th>\n      <th>run_time_in_seconds</th>\n      <th>length</th>\n      <th>...</th>\n      <th>hour</th>\n      <th>time_interval</th>\n      <th>part_of_day</th>\n      <th>date_in_week_Friday</th>\n      <th>date_in_week_Monday</th>\n      <th>date_in_week_Saturday</th>\n      <th>date_in_week_Sunday</th>\n      <th>date_in_week_Thursday</th>\n      <th>date_in_week_Tuesday</th>\n      <th>date_in_week_Wednesday</th>\n    </tr>\n  </thead>\n  <tbody>\n    <tr>\n      <th>0</th>\n      <td>0</td>\n      <td>1.0</td>\n      <td>262.0</td>\n      <td>1.0</td>\n      <td>1.0</td>\n      <td>2021-10-01</td>\n      <td>06:39:49</td>\n      <td>06:40:58</td>\n      <td>69.0</td>\n      <td>0.6261</td>\n      <td>...</td>\n      <td>6</td>\n      <td>6-7</td>\n      <td>0</td>\n      <td>True</td>\n      <td>False</td>\n      <td>False</td>\n      <td>False</td>\n      <td>False</td>\n      <td>False</td>\n      <td>False</td>\n    </tr>\n    <tr>\n      <th>1</th>\n      <td>15</td>\n      <td>8.0</td>\n      <td>274.0</td>\n      <td>1.0</td>\n      <td>1.0</td>\n      <td>2021-10-01</td>\n      <td>08:40:27</td>\n      <td>08:41:41</td>\n      <td>74.0</td>\n      <td>0.6261</td>\n      <td>...</td>\n      <td>8</td>\n      <td>8-9</td>\n      <td>0</td>\n      <td>True</td>\n      <td>False</td>\n      <td>False</td>\n      <td>False</td>\n      <td>False</td>\n      <td>False</td>\n      <td>False</td>\n    </tr>\n    <tr>\n      <th>2</th>\n      <td>30</td>\n      <td>10.0</td>\n      <td>123.0</td>\n      <td>1.0</td>\n      <td>1.0</td>\n      <td>2021-10-01</td>\n      <td>09:11:33</td>\n      <td>09:13:36</td>\n      <td>123.0</td>\n      <td>0.6261</td>\n      <td>...</td>\n      <td>9</td>\n      <td>9-10</td>\n      <td>0</td>\n      <td>True</td>\n      <td>False</td>\n      <td>False</td>\n      <td>False</td>\n      <td>False</td>\n      <td>False</td>\n      <td>False</td>\n    </tr>\n    <tr>\n      <th>3</th>\n      <td>39</td>\n      <td>15.0</td>\n      <td>262.0</td>\n      <td>1.0</td>\n      <td>1.0</td>\n      <td>2021-10-01</td>\n      <td>10:21:38</td>\n      <td>10:23:06</td>\n      <td>88.0</td>\n      <td>0.6261</td>\n      <td>...</td>\n      <td>10</td>\n      <td>10-11</td>\n      <td>0</td>\n      <td>True</td>\n      <td>False</td>\n      <td>False</td>\n      <td>False</td>\n      <td>False</td>\n      <td>False</td>\n      <td>False</td>\n    </tr>\n    <tr>\n      <th>4</th>\n      <td>54</td>\n      <td>21.0</td>\n      <td>274.0</td>\n      <td>1.0</td>\n      <td>1.0</td>\n      <td>2021-10-01</td>\n      <td>11:51:31</td>\n      <td>11:53:44</td>\n      <td>133.0</td>\n      <td>0.6261</td>\n      <td>...</td>\n      <td>11</td>\n      <td>11-12</td>\n      <td>0</td>\n      <td>True</td>\n      <td>False</td>\n      <td>False</td>\n      <td>False</td>\n      <td>False</td>\n      <td>False</td>\n      <td>False</td>\n    </tr>\n    <tr>\n      <th>...</th>\n      <td>...</td>\n      <td>...</td>\n      <td>...</td>\n      <td>...</td>\n      <td>...</td>\n      <td>...</td>\n      <td>...</td>\n      <td>...</td>\n      <td>...</td>\n      <td>...</td>\n      <td>...</td>\n      <td>...</td>\n      <td>...</td>\n      <td>...</td>\n      <td>...</td>\n      <td>...</td>\n      <td>...</td>\n      <td>...</td>\n      <td>...</td>\n      <td>...</td>\n      <td>...</td>\n    </tr>\n    <tr>\n      <th>7040</th>\n      <td>171189</td>\n      <td>25364.0</td>\n      <td>1166.0</td>\n      <td>1.0</td>\n      <td>1.0</td>\n      <td>2022-11-01</td>\n      <td>16:40:56</td>\n      <td>16:43:10</td>\n      <td>134.0</td>\n      <td>0.6300</td>\n      <td>...</td>\n      <td>16</td>\n      <td>16-17</td>\n      <td>1</td>\n      <td>False</td>\n      <td>False</td>\n      <td>False</td>\n      <td>False</td>\n      <td>False</td>\n      <td>True</td>\n      <td>False</td>\n    </tr>\n    <tr>\n      <th>7041</th>\n      <td>171204</td>\n      <td>25366.0</td>\n      <td>1358.0</td>\n      <td>1.0</td>\n      <td>1.0</td>\n      <td>2022-11-01</td>\n      <td>17:00:34</td>\n      <td>17:02:49</td>\n      <td>135.0</td>\n      <td>0.6300</td>\n      <td>...</td>\n      <td>17</td>\n      <td>17-18</td>\n      <td>1</td>\n      <td>False</td>\n      <td>False</td>\n      <td>False</td>\n      <td>False</td>\n      <td>False</td>\n      <td>True</td>\n      <td>False</td>\n    </tr>\n    <tr>\n      <th>7042</th>\n      <td>171217</td>\n      <td>25368.0</td>\n      <td>284.0</td>\n      <td>1.0</td>\n      <td>1.0</td>\n      <td>2022-11-01</td>\n      <td>17:51:04</td>\n      <td>17:53:40</td>\n      <td>156.0</td>\n      <td>0.6300</td>\n      <td>...</td>\n      <td>17</td>\n      <td>17-18</td>\n      <td>1</td>\n      <td>False</td>\n      <td>False</td>\n      <td>False</td>\n      <td>False</td>\n      <td>False</td>\n      <td>True</td>\n      <td>False</td>\n    </tr>\n    <tr>\n      <th>7043</th>\n      <td>171232</td>\n      <td>25369.0</td>\n      <td>513.0</td>\n      <td>1.0</td>\n      <td>1.0</td>\n      <td>2022-11-01</td>\n      <td>18:08:04</td>\n      <td>18:10:01</td>\n      <td>117.0</td>\n      <td>0.6300</td>\n      <td>...</td>\n      <td>18</td>\n      <td>18-19</td>\n      <td>1</td>\n      <td>False</td>\n      <td>False</td>\n      <td>False</td>\n      <td>False</td>\n      <td>False</td>\n      <td>True</td>\n      <td>False</td>\n    </tr>\n    <tr>\n      <th>7044</th>\n      <td>171247</td>\n      <td>25370.0</td>\n      <td>121.0</td>\n      <td>1.0</td>\n      <td>1.0</td>\n      <td>2022-11-01</td>\n      <td>18:20:26</td>\n      <td>18:22:05</td>\n      <td>99.0</td>\n      <td>0.6300</td>\n      <td>...</td>\n      <td>18</td>\n      <td>18-19</td>\n      <td>1</td>\n      <td>False</td>\n      <td>False</td>\n      <td>False</td>\n      <td>False</td>\n      <td>False</td>\n      <td>True</td>\n      <td>False</td>\n    </tr>\n  </tbody>\n</table>\n<p>7045 rows × 21 columns</p>\n</div>"
     },
     "execution_count": 22,
     "metadata": {},
     "output_type": "execute_result"
    }
   ],
   "source": [
    "\n",
    "df = pd.get_dummies(df, columns=['date_in_week'])\n",
    "def label_encoding(x):\n",
    "    help = {\n",
    "        'Monday':2,\n",
    "        'Tuesday':3,\n",
    "        'Wednesday': 4,\n",
    "        'Thursday': 5,\n",
    "        'Friday': 6,\n",
    "        'Saturday': 7,\n",
    "        'Sunday': 1,\n",
    "        'morning': 0,\n",
    "        'afternoon': 1,\n",
    "        'evening': 2\n",
    "    }\n",
    "    return help[x]\n",
    "\n",
    "df['part_of_day'] = df['part_of_day'].apply(label_encoding)\n",
    "\n",
    "df"
   ],
   "metadata": {
    "collapsed": false,
    "ExecuteTime": {
     "end_time": "2023-10-17T13:57:10.621121Z",
     "start_time": "2023-10-17T13:57:10.585388Z"
    }
   },
   "id": "dfd9ebbee7fcf884"
  },
  {
   "cell_type": "code",
   "execution_count": 22,
   "outputs": [],
   "source": [],
   "metadata": {
    "collapsed": false,
    "ExecuteTime": {
     "end_time": "2023-10-17T13:57:10.628283Z",
     "start_time": "2023-10-17T13:57:10.603327Z"
    }
   },
   "id": "7502c25e073996a5"
  },
  {
   "cell_type": "code",
   "execution_count": 23,
   "outputs": [
    {
     "data": {
      "text/plain": "array([[1.0, 262.0, 1.0, ..., False, False, False],\n       [8.0, 274.0, 1.0, ..., False, False, False],\n       [10.0, 123.0, 1.0, ..., False, False, False],\n       ...,\n       [25368.0, 284.0, 1.0, ..., False, True, False],\n       [25369.0, 513.0, 1.0, ..., False, True, False],\n       [25370.0, 121.0, 1.0, ..., False, True, False]], dtype=object)"
     },
     "execution_count": 23,
     "metadata": {},
     "output_type": "execute_result"
    }
   ],
   "source": [
    "# Extract the training and test data\n",
    "data = df.values\n",
    "X = data[:,[1,2,3,10,13,14,15,16,17,18,19,20]]\n",
    "y = data[:,8]\n",
    "X"
   ],
   "metadata": {
    "collapsed": false,
    "ExecuteTime": {
     "end_time": "2023-10-17T13:57:10.648527Z",
     "start_time": "2023-10-17T13:57:10.606758Z"
    }
   },
   "id": "f898d59308d7070e"
  },
  {
   "cell_type": "code",
   "execution_count": 24,
   "outputs": [
    {
     "data": {
      "text/plain": "array([[2691.0, 1358.0, 1.0, ..., False, False, False],\n       [7924.0, 505.0, 1.0, ..., False, False, False],\n       [6437.0, 250.0, 1.0, ..., False, False, False],\n       ...,\n       [21017.0, 121.0, 1.0, ..., False, False, False],\n       [21878.0, 1358.0, 1.0, ..., False, False, False],\n       [2090.0, 1143.0, 1.0, ..., False, False, False]], dtype=object)"
     },
     "execution_count": 24,
     "metadata": {},
     "output_type": "execute_result"
    }
   ],
   "source": [
    "# Tính Z-score cho mỗi cột trong dữ liệu X\n",
    "z_scores = np.abs((X - X.mean()) / X.std())\n",
    "\n",
    "# Định một ngưỡng Z-score tùy ý (ví dụ: 3.0) để xác định outlier\n",
    "threshold = 3.0\n",
    "\n",
    "# Loại bỏ các dòng chứa outlier\n",
    "X_no_outliers = X[(z_scores < threshold).all(axis=1)]\n",
    "y_no_outliers = y[(z_scores < threshold).all(axis=1)]\n",
    "X_train, X_test, y_train, y_test = train_test_split(X, y, test_size=0.2, random_state=42)\n",
    "X_train"
   ],
   "metadata": {
    "collapsed": false,
    "ExecuteTime": {
     "end_time": "2023-10-17T13:57:10.656706Z",
     "start_time": "2023-10-17T13:57:10.618043Z"
    }
   },
   "id": "1850c6a3b0cd9894"
  },
  {
   "cell_type": "code",
   "execution_count": 25,
   "outputs": [
    {
     "data": {
      "text/plain": "array([[0.10603492, 0.77479726, 0.        , ..., 0.        , 0.        ,\n        0.        ],\n       [0.3123103 , 0.24266999, 0.        , ..., 0.        , 0.        ,\n        0.        ],\n       [0.25369546, 0.08359326, 0.        , ..., 0.        , 0.        ,\n        0.        ],\n       ...,\n       [0.82841263, 0.00311915, 0.        , ..., 0.        , 0.        ,\n        0.        ],\n       [0.86235169, 0.77479726, 0.        , ..., 0.        , 0.        ,\n        0.        ],\n       [0.08234459, 0.64067374, 0.        , ..., 0.        , 0.        ,\n        0.        ]])"
     },
     "execution_count": 25,
     "metadata": {},
     "output_type": "execute_result"
    }
   ],
   "source": [
    "# # Scale the data to be between 0 and 1\n",
    "# #scaler = StandardScaler()\n",
    "# scaler = MinMaxScaler()\n",
    "# scaler.fit(X_train[:,[0,1,2,3,5]])\n",
    "# X_train = scaler.transform(X_train[:,[0,1,2,3,5]])\n",
    "# X_test = scaler.transform(X_test[:,[0,1,2,3,5]])\n",
    "\n",
    "scaler = StandardScaler()\n",
    "X_train = scaler.fit_transform(X_train)\n",
    "X_test = scaler.transform(X_test)\n",
    "\n",
    "scaler = MinMaxScaler()\n",
    "X_train = scaler.fit_transform(X_train)\n",
    "X_test = scaler.transform(X_test)\n",
    "X_train\n"
   ],
   "metadata": {
    "collapsed": false,
    "ExecuteTime": {
     "end_time": "2023-10-17T13:57:10.657049Z",
     "start_time": "2023-10-17T13:57:10.637015Z"
    }
   },
   "id": "de67e3e47a91aa9e"
  },
  {
   "cell_type": "code",
   "execution_count": 26,
   "outputs": [
    {
     "name": "stdout",
     "output_type": "stream",
     "text": [
      "Mean Absolute Error (SVM): 19.371666326821206\n",
      "Mean Squared Error (SVM): 694.864182929942\n",
      "Root Mean Squared Error (SVM): 26.360276609511175\n",
      "\n",
      "Mean Absolute Error (RF): 20.37848474095103\n",
      "Mean Squared Error (RF): 767.920570351313\n",
      "Root Mean Squared Error (RF): 27.711379798763414\n"
     ]
    }
   ],
   "source": [
    "# Khởi tạo mô hình SVM với kernel tuyến tính và siêu tham số C mặc định\n",
    "svm_regressor = SVR(kernel='rbf', C=20, epsilon=23)\n",
    "# Khởi tạo mô hình k-NN với số lân cận k (ví dụ: k=50)\n",
    "# knn_regressor = KNeighborsRegressor(n_neighbors=20)\n",
    "# Khởi tạo mô hình RandomForestRegressor với số cây (n_estimators) và các tham số khác\n",
    "rf_regressor = RandomForestRegressor(n_estimators=200, random_state=48)\n",
    "\n",
    "\n",
    "# Huấn luyện mô hình trên tập huấn luyện\n",
    "rf_regressor.fit(X_train, y_train)\n",
    "svm_regressor.fit(X_train, y_train)\n",
    "# knn_regressor.fit(X_train, y_train)\n",
    "\n",
    "\n",
    "\n",
    "# Dự đoán thời gian đến trên tập kiểm tra\n",
    "y_pred_rf = rf_regressor.predict(X_test)\n",
    "y_pred_svm = svm_regressor.predict(X_test)\n",
    "\n",
    "\n",
    "# Đánh giá mô hình\n",
    "mae_svm = mean_absolute_error(y_test, y_pred_svm)\n",
    "mae_rf = mean_absolute_error(y_test, y_pred_rf)\n",
    "\n",
    "mse_svm = mean_squared_error(y_test, y_pred_svm)\n",
    "mse_rf = mean_squared_error(y_test, y_pred_rf)\n",
    "\n",
    "r2_svm = r2_score(y_test, y_pred_svm)\n",
    "r2_rf = r2_score(y_test, y_pred_rf)\n",
    "\n",
    "\n",
    "print(f\"Mean Absolute Error (SVM): {mae_svm}\")\n",
    "print(f\"Mean Squared Error (SVM): {mse_svm}\")\n",
    "print(f\"Root Mean Squared Error (SVM): {math.sqrt(mse_svm)}\\n\")\n",
    "\n",
    "print(f\"Mean Absolute Error (RF): {mae_rf}\")\n",
    "print(f\"Mean Squared Error (RF): {mse_rf}\")\n",
    "print(f\"Root Mean Squared Error (RF): {math.sqrt(mse_rf)}\")"
   ],
   "metadata": {
    "collapsed": false,
    "ExecuteTime": {
     "end_time": "2023-10-17T13:57:12.870391Z",
     "start_time": "2023-10-17T13:57:10.650096Z"
    }
   },
   "id": "e154983831186a5d"
  },
  {
   "cell_type": "code",
   "execution_count": 27,
   "outputs": [],
   "source": [
    "# # # Try to get the lowest RMSE by using different Epsilon value\n",
    "# epsilons = np.arange(10,30)\n",
    "# scores = []\n",
    "# for e in epsilons:\n",
    "#     svm_regressor.set_params(epsilon=e)\n",
    "#     svm_regressor.fit(X_train, y_train)\n",
    "#     scores.append(math.sqrt(mean_squared_error(y_test, svm_regressor.predict(X_test))))\n",
    "# plt.plot(epsilons, scores)\n",
    "# plt.title(\"Epsilon effect\")\n",
    "# plt.xlabel(\"epsilon\")\n",
    "# plt.ylabel(\"RMSE\")\n",
    "# plt.show()"
   ],
   "metadata": {
    "collapsed": false,
    "ExecuteTime": {
     "end_time": "2023-10-17T13:57:12.870946Z",
     "start_time": "2023-10-17T13:57:12.869396Z"
    }
   },
   "id": "fd0aeabf0e2173ce"
  },
  {
   "cell_type": "code",
   "execution_count": 27,
   "outputs": [],
   "source": [],
   "metadata": {
    "collapsed": false,
    "ExecuteTime": {
     "end_time": "2023-10-17T13:57:12.873606Z",
     "start_time": "2023-10-17T13:57:12.871568Z"
    }
   },
   "id": "59bab3cc149e2525"
  }
 ],
 "metadata": {
  "kernelspec": {
   "display_name": "Python 3",
   "language": "python",
   "name": "python3"
  },
  "language_info": {
   "codemirror_mode": {
    "name": "ipython",
    "version": 2
   },
   "file_extension": ".py",
   "mimetype": "text/x-python",
   "name": "python",
   "nbconvert_exporter": "python",
   "pygments_lexer": "ipython2",
   "version": "2.7.6"
  }
 },
 "nbformat": 4,
 "nbformat_minor": 5
}
