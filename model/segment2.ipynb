{
 "cells": [
  {
   "cell_type": "code",
   "execution_count": 28,
   "outputs": [],
   "source": [
    "import math\n",
    "import numpy as np\n",
    "import matplotlib.pyplot as plt\n",
    "import pandas as pd\n",
    "from sklearn.svm import SVR\n",
    "from sklearn.neighbors import KNeighborsRegressor\n",
    "from sklearn.ensemble import RandomForestRegressor\n",
    "from sklearn.model_selection import train_test_split\n",
    "from sklearn.preprocessing import MinMaxScaler, StandardScaler, LabelEncoder\n",
    "from sklearn.metrics import mean_squared_error, mean_absolute_error, r2_score"
   ],
   "metadata": {
    "collapsed": false,
    "ExecuteTime": {
     "end_time": "2023-10-17T13:58:29.772295Z",
     "start_time": "2023-10-17T13:58:29.746641Z"
    }
   },
   "id": "c0b445addfb32c0f"
  },
  {
   "cell_type": "code",
   "execution_count": 29,
   "outputs": [],
   "source": [
    "SEGMENT = 4"
   ],
   "metadata": {
    "collapsed": false,
    "ExecuteTime": {
     "end_time": "2023-10-17T13:58:29.772621Z",
     "start_time": "2023-10-17T13:58:29.751090Z"
    }
   },
   "id": "4cfc45279f4b82d"
  },
  {
   "cell_type": "code",
   "execution_count": 30,
   "outputs": [
    {
     "data": {
      "text/plain": "      Unnamed: 0  trip_id  deviceid  direction  segment        date  \\\n0              3      1.0     262.0        1.0      4.0  2021-10-01   \n1             18      8.0     274.0        1.0      4.0  2021-10-01   \n2             33     10.0     123.0        1.0      4.0  2021-10-01   \n3             42     15.0     262.0        1.0      4.0  2021-10-01   \n4             57     21.0     274.0        1.0      4.0  2021-10-01   \n...          ...      ...       ...        ...      ...         ...   \n6882      171192  25364.0    1166.0        1.0      4.0  2022-11-01   \n6883      171207  25366.0    1358.0        1.0      4.0  2022-11-01   \n6884      171220  25368.0     284.0        1.0      4.0  2022-11-01   \n6885      171235  25369.0     513.0        1.0      4.0  2022-11-01   \n6886      171250  25370.0     121.0        1.0      4.0  2022-11-01   \n\n     start_time  end_time  run_time_in_seconds  length  weather date_in_week  \\\n0      06:54:04  06:57:19                195.0  1.5513        1       Friday   \n1      08:55:19  08:58:19                180.0  1.5513        1       Friday   \n2      09:25:46  09:27:59                133.0  1.5513        1       Friday   \n3      10:37:31  10:40:19                168.0  1.5513        1       Friday   \n4      12:07:59  12:12:22                263.0  1.5513        1       Friday   \n...         ...       ...                  ...     ...      ...          ...   \n6882   16:55:45  16:59:58                253.0  1.5500        1      Tuesday   \n6883   17:14:34  17:18:48                254.0  1.5500        1      Tuesday   \n6884   18:04:53  18:08:40                227.0  1.5500        1      Tuesday   \n6885   18:21:19  18:25:24                245.0  1.5500        1      Tuesday   \n6886   18:33:54  18:37:23                209.0  1.5500        1      Tuesday   \n\n      hour time_interval part_of_day  \n0        6           6-7     morning  \n1        8           8-9     morning  \n2        9          9-10     morning  \n3       10         10-11     morning  \n4       12         12-13     morning  \n...    ...           ...         ...  \n6882    16         16-17   afternoon  \n6883    17         17-18   afternoon  \n6884    18         18-19   afternoon  \n6885    18         18-19   afternoon  \n6886    18         18-19   afternoon  \n\n[6887 rows x 15 columns]",
      "text/html": "<div>\n<style scoped>\n    .dataframe tbody tr th:only-of-type {\n        vertical-align: middle;\n    }\n\n    .dataframe tbody tr th {\n        vertical-align: top;\n    }\n\n    .dataframe thead th {\n        text-align: right;\n    }\n</style>\n<table border=\"1\" class=\"dataframe\">\n  <thead>\n    <tr style=\"text-align: right;\">\n      <th></th>\n      <th>Unnamed: 0</th>\n      <th>trip_id</th>\n      <th>deviceid</th>\n      <th>direction</th>\n      <th>segment</th>\n      <th>date</th>\n      <th>start_time</th>\n      <th>end_time</th>\n      <th>run_time_in_seconds</th>\n      <th>length</th>\n      <th>weather</th>\n      <th>date_in_week</th>\n      <th>hour</th>\n      <th>time_interval</th>\n      <th>part_of_day</th>\n    </tr>\n  </thead>\n  <tbody>\n    <tr>\n      <th>0</th>\n      <td>3</td>\n      <td>1.0</td>\n      <td>262.0</td>\n      <td>1.0</td>\n      <td>4.0</td>\n      <td>2021-10-01</td>\n      <td>06:54:04</td>\n      <td>06:57:19</td>\n      <td>195.0</td>\n      <td>1.5513</td>\n      <td>1</td>\n      <td>Friday</td>\n      <td>6</td>\n      <td>6-7</td>\n      <td>morning</td>\n    </tr>\n    <tr>\n      <th>1</th>\n      <td>18</td>\n      <td>8.0</td>\n      <td>274.0</td>\n      <td>1.0</td>\n      <td>4.0</td>\n      <td>2021-10-01</td>\n      <td>08:55:19</td>\n      <td>08:58:19</td>\n      <td>180.0</td>\n      <td>1.5513</td>\n      <td>1</td>\n      <td>Friday</td>\n      <td>8</td>\n      <td>8-9</td>\n      <td>morning</td>\n    </tr>\n    <tr>\n      <th>2</th>\n      <td>33</td>\n      <td>10.0</td>\n      <td>123.0</td>\n      <td>1.0</td>\n      <td>4.0</td>\n      <td>2021-10-01</td>\n      <td>09:25:46</td>\n      <td>09:27:59</td>\n      <td>133.0</td>\n      <td>1.5513</td>\n      <td>1</td>\n      <td>Friday</td>\n      <td>9</td>\n      <td>9-10</td>\n      <td>morning</td>\n    </tr>\n    <tr>\n      <th>3</th>\n      <td>42</td>\n      <td>15.0</td>\n      <td>262.0</td>\n      <td>1.0</td>\n      <td>4.0</td>\n      <td>2021-10-01</td>\n      <td>10:37:31</td>\n      <td>10:40:19</td>\n      <td>168.0</td>\n      <td>1.5513</td>\n      <td>1</td>\n      <td>Friday</td>\n      <td>10</td>\n      <td>10-11</td>\n      <td>morning</td>\n    </tr>\n    <tr>\n      <th>4</th>\n      <td>57</td>\n      <td>21.0</td>\n      <td>274.0</td>\n      <td>1.0</td>\n      <td>4.0</td>\n      <td>2021-10-01</td>\n      <td>12:07:59</td>\n      <td>12:12:22</td>\n      <td>263.0</td>\n      <td>1.5513</td>\n      <td>1</td>\n      <td>Friday</td>\n      <td>12</td>\n      <td>12-13</td>\n      <td>morning</td>\n    </tr>\n    <tr>\n      <th>...</th>\n      <td>...</td>\n      <td>...</td>\n      <td>...</td>\n      <td>...</td>\n      <td>...</td>\n      <td>...</td>\n      <td>...</td>\n      <td>...</td>\n      <td>...</td>\n      <td>...</td>\n      <td>...</td>\n      <td>...</td>\n      <td>...</td>\n      <td>...</td>\n      <td>...</td>\n    </tr>\n    <tr>\n      <th>6882</th>\n      <td>171192</td>\n      <td>25364.0</td>\n      <td>1166.0</td>\n      <td>1.0</td>\n      <td>4.0</td>\n      <td>2022-11-01</td>\n      <td>16:55:45</td>\n      <td>16:59:58</td>\n      <td>253.0</td>\n      <td>1.5500</td>\n      <td>1</td>\n      <td>Tuesday</td>\n      <td>16</td>\n      <td>16-17</td>\n      <td>afternoon</td>\n    </tr>\n    <tr>\n      <th>6883</th>\n      <td>171207</td>\n      <td>25366.0</td>\n      <td>1358.0</td>\n      <td>1.0</td>\n      <td>4.0</td>\n      <td>2022-11-01</td>\n      <td>17:14:34</td>\n      <td>17:18:48</td>\n      <td>254.0</td>\n      <td>1.5500</td>\n      <td>1</td>\n      <td>Tuesday</td>\n      <td>17</td>\n      <td>17-18</td>\n      <td>afternoon</td>\n    </tr>\n    <tr>\n      <th>6884</th>\n      <td>171220</td>\n      <td>25368.0</td>\n      <td>284.0</td>\n      <td>1.0</td>\n      <td>4.0</td>\n      <td>2022-11-01</td>\n      <td>18:04:53</td>\n      <td>18:08:40</td>\n      <td>227.0</td>\n      <td>1.5500</td>\n      <td>1</td>\n      <td>Tuesday</td>\n      <td>18</td>\n      <td>18-19</td>\n      <td>afternoon</td>\n    </tr>\n    <tr>\n      <th>6885</th>\n      <td>171235</td>\n      <td>25369.0</td>\n      <td>513.0</td>\n      <td>1.0</td>\n      <td>4.0</td>\n      <td>2022-11-01</td>\n      <td>18:21:19</td>\n      <td>18:25:24</td>\n      <td>245.0</td>\n      <td>1.5500</td>\n      <td>1</td>\n      <td>Tuesday</td>\n      <td>18</td>\n      <td>18-19</td>\n      <td>afternoon</td>\n    </tr>\n    <tr>\n      <th>6886</th>\n      <td>171250</td>\n      <td>25370.0</td>\n      <td>121.0</td>\n      <td>1.0</td>\n      <td>4.0</td>\n      <td>2022-11-01</td>\n      <td>18:33:54</td>\n      <td>18:37:23</td>\n      <td>209.0</td>\n      <td>1.5500</td>\n      <td>1</td>\n      <td>Tuesday</td>\n      <td>18</td>\n      <td>18-19</td>\n      <td>afternoon</td>\n    </tr>\n  </tbody>\n</table>\n<p>6887 rows × 15 columns</p>\n</div>"
     },
     "execution_count": 30,
     "metadata": {},
     "output_type": "execute_result"
    }
   ],
   "source": [
    "df = pd.read_csv(f'../preprocess/all_segments/segment{SEGMENT}.csv')\n",
    "\n",
    "df.dropna(inplace=True)\n",
    "df"
   ],
   "metadata": {
    "collapsed": false,
    "ExecuteTime": {
     "end_time": "2023-10-17T13:58:29.793829Z",
     "start_time": "2023-10-17T13:58:29.757001Z"
    }
   },
   "id": "bf2021d7fcc29d70"
  },
  {
   "cell_type": "code",
   "execution_count": 31,
   "outputs": [
    {
     "data": {
      "text/plain": "      Unnamed: 0  trip_id  deviceid  direction  segment        date  \\\n0              3      1.0     262.0        1.0      4.0  2021-10-01   \n1             18      8.0     274.0        1.0      4.0  2021-10-01   \n2             33     10.0     123.0        1.0      4.0  2021-10-01   \n3             42     15.0     262.0        1.0      4.0  2021-10-01   \n4             57     21.0     274.0        1.0      4.0  2021-10-01   \n...          ...      ...       ...        ...      ...         ...   \n6882      171192  25364.0    1166.0        1.0      4.0  2022-11-01   \n6883      171207  25366.0    1358.0        1.0      4.0  2022-11-01   \n6884      171220  25368.0     284.0        1.0      4.0  2022-11-01   \n6885      171235  25369.0     513.0        1.0      4.0  2022-11-01   \n6886      171250  25370.0     121.0        1.0      4.0  2022-11-01   \n\n     start_time  end_time  run_time_in_seconds  length  ...  hour  \\\n0      06:54:04  06:57:19                195.0  1.5513  ...     6   \n1      08:55:19  08:58:19                180.0  1.5513  ...     8   \n2      09:25:46  09:27:59                133.0  1.5513  ...     9   \n3      10:37:31  10:40:19                168.0  1.5513  ...    10   \n4      12:07:59  12:12:22                263.0  1.5513  ...    12   \n...         ...       ...                  ...     ...  ...   ...   \n6882   16:55:45  16:59:58                253.0  1.5500  ...    16   \n6883   17:14:34  17:18:48                254.0  1.5500  ...    17   \n6884   18:04:53  18:08:40                227.0  1.5500  ...    18   \n6885   18:21:19  18:25:24                245.0  1.5500  ...    18   \n6886   18:33:54  18:37:23                209.0  1.5500  ...    18   \n\n      time_interval part_of_day  date_in_week_Friday  date_in_week_Monday  \\\n0               6-7           0                 True                False   \n1               8-9           0                 True                False   \n2              9-10           0                 True                False   \n3             10-11           0                 True                False   \n4             12-13           0                 True                False   \n...             ...         ...                  ...                  ...   \n6882          16-17           1                False                False   \n6883          17-18           1                False                False   \n6884          18-19           1                False                False   \n6885          18-19           1                False                False   \n6886          18-19           1                False                False   \n\n      date_in_week_Saturday  date_in_week_Sunday  date_in_week_Thursday  \\\n0                     False                False                  False   \n1                     False                False                  False   \n2                     False                False                  False   \n3                     False                False                  False   \n4                     False                False                  False   \n...                     ...                  ...                    ...   \n6882                  False                False                  False   \n6883                  False                False                  False   \n6884                  False                False                  False   \n6885                  False                False                  False   \n6886                  False                False                  False   \n\n      date_in_week_Tuesday  date_in_week_Wednesday  \n0                    False                   False  \n1                    False                   False  \n2                    False                   False  \n3                    False                   False  \n4                    False                   False  \n...                    ...                     ...  \n6882                  True                   False  \n6883                  True                   False  \n6884                  True                   False  \n6885                  True                   False  \n6886                  True                   False  \n\n[6887 rows x 21 columns]",
      "text/html": "<div>\n<style scoped>\n    .dataframe tbody tr th:only-of-type {\n        vertical-align: middle;\n    }\n\n    .dataframe tbody tr th {\n        vertical-align: top;\n    }\n\n    .dataframe thead th {\n        text-align: right;\n    }\n</style>\n<table border=\"1\" class=\"dataframe\">\n  <thead>\n    <tr style=\"text-align: right;\">\n      <th></th>\n      <th>Unnamed: 0</th>\n      <th>trip_id</th>\n      <th>deviceid</th>\n      <th>direction</th>\n      <th>segment</th>\n      <th>date</th>\n      <th>start_time</th>\n      <th>end_time</th>\n      <th>run_time_in_seconds</th>\n      <th>length</th>\n      <th>...</th>\n      <th>hour</th>\n      <th>time_interval</th>\n      <th>part_of_day</th>\n      <th>date_in_week_Friday</th>\n      <th>date_in_week_Monday</th>\n      <th>date_in_week_Saturday</th>\n      <th>date_in_week_Sunday</th>\n      <th>date_in_week_Thursday</th>\n      <th>date_in_week_Tuesday</th>\n      <th>date_in_week_Wednesday</th>\n    </tr>\n  </thead>\n  <tbody>\n    <tr>\n      <th>0</th>\n      <td>3</td>\n      <td>1.0</td>\n      <td>262.0</td>\n      <td>1.0</td>\n      <td>4.0</td>\n      <td>2021-10-01</td>\n      <td>06:54:04</td>\n      <td>06:57:19</td>\n      <td>195.0</td>\n      <td>1.5513</td>\n      <td>...</td>\n      <td>6</td>\n      <td>6-7</td>\n      <td>0</td>\n      <td>True</td>\n      <td>False</td>\n      <td>False</td>\n      <td>False</td>\n      <td>False</td>\n      <td>False</td>\n      <td>False</td>\n    </tr>\n    <tr>\n      <th>1</th>\n      <td>18</td>\n      <td>8.0</td>\n      <td>274.0</td>\n      <td>1.0</td>\n      <td>4.0</td>\n      <td>2021-10-01</td>\n      <td>08:55:19</td>\n      <td>08:58:19</td>\n      <td>180.0</td>\n      <td>1.5513</td>\n      <td>...</td>\n      <td>8</td>\n      <td>8-9</td>\n      <td>0</td>\n      <td>True</td>\n      <td>False</td>\n      <td>False</td>\n      <td>False</td>\n      <td>False</td>\n      <td>False</td>\n      <td>False</td>\n    </tr>\n    <tr>\n      <th>2</th>\n      <td>33</td>\n      <td>10.0</td>\n      <td>123.0</td>\n      <td>1.0</td>\n      <td>4.0</td>\n      <td>2021-10-01</td>\n      <td>09:25:46</td>\n      <td>09:27:59</td>\n      <td>133.0</td>\n      <td>1.5513</td>\n      <td>...</td>\n      <td>9</td>\n      <td>9-10</td>\n      <td>0</td>\n      <td>True</td>\n      <td>False</td>\n      <td>False</td>\n      <td>False</td>\n      <td>False</td>\n      <td>False</td>\n      <td>False</td>\n    </tr>\n    <tr>\n      <th>3</th>\n      <td>42</td>\n      <td>15.0</td>\n      <td>262.0</td>\n      <td>1.0</td>\n      <td>4.0</td>\n      <td>2021-10-01</td>\n      <td>10:37:31</td>\n      <td>10:40:19</td>\n      <td>168.0</td>\n      <td>1.5513</td>\n      <td>...</td>\n      <td>10</td>\n      <td>10-11</td>\n      <td>0</td>\n      <td>True</td>\n      <td>False</td>\n      <td>False</td>\n      <td>False</td>\n      <td>False</td>\n      <td>False</td>\n      <td>False</td>\n    </tr>\n    <tr>\n      <th>4</th>\n      <td>57</td>\n      <td>21.0</td>\n      <td>274.0</td>\n      <td>1.0</td>\n      <td>4.0</td>\n      <td>2021-10-01</td>\n      <td>12:07:59</td>\n      <td>12:12:22</td>\n      <td>263.0</td>\n      <td>1.5513</td>\n      <td>...</td>\n      <td>12</td>\n      <td>12-13</td>\n      <td>0</td>\n      <td>True</td>\n      <td>False</td>\n      <td>False</td>\n      <td>False</td>\n      <td>False</td>\n      <td>False</td>\n      <td>False</td>\n    </tr>\n    <tr>\n      <th>...</th>\n      <td>...</td>\n      <td>...</td>\n      <td>...</td>\n      <td>...</td>\n      <td>...</td>\n      <td>...</td>\n      <td>...</td>\n      <td>...</td>\n      <td>...</td>\n      <td>...</td>\n      <td>...</td>\n      <td>...</td>\n      <td>...</td>\n      <td>...</td>\n      <td>...</td>\n      <td>...</td>\n      <td>...</td>\n      <td>...</td>\n      <td>...</td>\n      <td>...</td>\n      <td>...</td>\n    </tr>\n    <tr>\n      <th>6882</th>\n      <td>171192</td>\n      <td>25364.0</td>\n      <td>1166.0</td>\n      <td>1.0</td>\n      <td>4.0</td>\n      <td>2022-11-01</td>\n      <td>16:55:45</td>\n      <td>16:59:58</td>\n      <td>253.0</td>\n      <td>1.5500</td>\n      <td>...</td>\n      <td>16</td>\n      <td>16-17</td>\n      <td>1</td>\n      <td>False</td>\n      <td>False</td>\n      <td>False</td>\n      <td>False</td>\n      <td>False</td>\n      <td>True</td>\n      <td>False</td>\n    </tr>\n    <tr>\n      <th>6883</th>\n      <td>171207</td>\n      <td>25366.0</td>\n      <td>1358.0</td>\n      <td>1.0</td>\n      <td>4.0</td>\n      <td>2022-11-01</td>\n      <td>17:14:34</td>\n      <td>17:18:48</td>\n      <td>254.0</td>\n      <td>1.5500</td>\n      <td>...</td>\n      <td>17</td>\n      <td>17-18</td>\n      <td>1</td>\n      <td>False</td>\n      <td>False</td>\n      <td>False</td>\n      <td>False</td>\n      <td>False</td>\n      <td>True</td>\n      <td>False</td>\n    </tr>\n    <tr>\n      <th>6884</th>\n      <td>171220</td>\n      <td>25368.0</td>\n      <td>284.0</td>\n      <td>1.0</td>\n      <td>4.0</td>\n      <td>2022-11-01</td>\n      <td>18:04:53</td>\n      <td>18:08:40</td>\n      <td>227.0</td>\n      <td>1.5500</td>\n      <td>...</td>\n      <td>18</td>\n      <td>18-19</td>\n      <td>1</td>\n      <td>False</td>\n      <td>False</td>\n      <td>False</td>\n      <td>False</td>\n      <td>False</td>\n      <td>True</td>\n      <td>False</td>\n    </tr>\n    <tr>\n      <th>6885</th>\n      <td>171235</td>\n      <td>25369.0</td>\n      <td>513.0</td>\n      <td>1.0</td>\n      <td>4.0</td>\n      <td>2022-11-01</td>\n      <td>18:21:19</td>\n      <td>18:25:24</td>\n      <td>245.0</td>\n      <td>1.5500</td>\n      <td>...</td>\n      <td>18</td>\n      <td>18-19</td>\n      <td>1</td>\n      <td>False</td>\n      <td>False</td>\n      <td>False</td>\n      <td>False</td>\n      <td>False</td>\n      <td>True</td>\n      <td>False</td>\n    </tr>\n    <tr>\n      <th>6886</th>\n      <td>171250</td>\n      <td>25370.0</td>\n      <td>121.0</td>\n      <td>1.0</td>\n      <td>4.0</td>\n      <td>2022-11-01</td>\n      <td>18:33:54</td>\n      <td>18:37:23</td>\n      <td>209.0</td>\n      <td>1.5500</td>\n      <td>...</td>\n      <td>18</td>\n      <td>18-19</td>\n      <td>1</td>\n      <td>False</td>\n      <td>False</td>\n      <td>False</td>\n      <td>False</td>\n      <td>False</td>\n      <td>True</td>\n      <td>False</td>\n    </tr>\n  </tbody>\n</table>\n<p>6887 rows × 21 columns</p>\n</div>"
     },
     "execution_count": 31,
     "metadata": {},
     "output_type": "execute_result"
    }
   ],
   "source": [
    "\n",
    "df = pd.get_dummies(df, columns=['date_in_week'])\n",
    "def label_encoding(x):\n",
    "    help = {\n",
    "        'Monday':2,\n",
    "        'Tuesday':3,\n",
    "        'Wednesday': 4,\n",
    "        'Thursday': 5,\n",
    "        'Friday': 6,\n",
    "        'Saturday': 7,\n",
    "        'Sunday': 1,\n",
    "        'morning': 0,\n",
    "        'afternoon': 1,\n",
    "        'evening': 2\n",
    "    }\n",
    "    return help[x]\n",
    "\n",
    "df['part_of_day'] = df['part_of_day'].apply(label_encoding)\n",
    "\n",
    "df"
   ],
   "metadata": {
    "collapsed": false,
    "ExecuteTime": {
     "end_time": "2023-10-17T13:58:29.809040Z",
     "start_time": "2023-10-17T13:58:29.785480Z"
    }
   },
   "id": "dfd9ebbee7fcf884"
  },
  {
   "cell_type": "code",
   "execution_count": 31,
   "outputs": [],
   "source": [],
   "metadata": {
    "collapsed": false,
    "ExecuteTime": {
     "end_time": "2023-10-17T13:58:29.809301Z",
     "start_time": "2023-10-17T13:58:29.806893Z"
    }
   },
   "id": "7502c25e073996a5"
  },
  {
   "cell_type": "code",
   "execution_count": 32,
   "outputs": [
    {
     "data": {
      "text/plain": "array([[1.0, 262.0, 1.0, ..., False, False, False],\n       [8.0, 274.0, 1.0, ..., False, False, False],\n       [10.0, 123.0, 1.0, ..., False, False, False],\n       ...,\n       [25368.0, 284.0, 1.0, ..., False, True, False],\n       [25369.0, 513.0, 1.0, ..., False, True, False],\n       [25370.0, 121.0, 1.0, ..., False, True, False]], dtype=object)"
     },
     "execution_count": 32,
     "metadata": {},
     "output_type": "execute_result"
    }
   ],
   "source": [
    "# Extract the training and test data\n",
    "data = df.values\n",
    "X = data[:,[1,2,3,10,13,14,15,16,17,18,19,20]]\n",
    "y = data[:,8]\n",
    "X"
   ],
   "metadata": {
    "collapsed": false,
    "ExecuteTime": {
     "end_time": "2023-10-17T13:58:29.837119Z",
     "start_time": "2023-10-17T13:58:29.810073Z"
    }
   },
   "id": "f898d59308d7070e"
  },
  {
   "cell_type": "code",
   "execution_count": 33,
   "outputs": [
    {
     "data": {
      "text/plain": "array([[2350.0, 250.0, 1.0, ..., False, True, False],\n       [9578.0, 1143.0, 1.0, ..., False, False, False],\n       [8725.0, 116.0, 1.0, ..., False, False, True],\n       ...,\n       [21813.0, 513.0, 1.0, ..., False, False, False],\n       [22156.0, 1143.0, 1.0, ..., False, False, False],\n       [2127.0, 274.0, 1.0, ..., False, False, False]], dtype=object)"
     },
     "execution_count": 33,
     "metadata": {},
     "output_type": "execute_result"
    }
   ],
   "source": [
    "# Tính Z-score cho mỗi cột trong dữ liệu X\n",
    "z_scores = np.abs((X - X.mean()) / X.std())\n",
    "\n",
    "# Định một ngưỡng Z-score tùy ý (ví dụ: 3.0) để xác định outlier\n",
    "threshold = 3.0\n",
    "\n",
    "# Loại bỏ các dòng chứa outlier\n",
    "X_no_outliers = X[(z_scores < threshold).all(axis=1)]\n",
    "y_no_outliers = y[(z_scores < threshold).all(axis=1)]\n",
    "X_train, X_test, y_train, y_test = train_test_split(X, y, test_size=0.2, random_state=42)\n",
    "X_train"
   ],
   "metadata": {
    "collapsed": false,
    "ExecuteTime": {
     "end_time": "2023-10-17T13:58:29.889256Z",
     "start_time": "2023-10-17T13:58:29.821667Z"
    }
   },
   "id": "1850c6a3b0cd9894"
  },
  {
   "cell_type": "code",
   "execution_count": 34,
   "outputs": [
    {
     "data": {
      "text/plain": "array([[0.09259332, 0.08359326, 0.        , ..., 0.        , 1.        ,\n        0.        ],\n       [0.37750798, 0.64067374, 0.        , ..., 0.        , 0.        ,\n        0.        ],\n       [0.34388427, 0.        , 0.        , ..., 0.        , 0.        ,\n        1.        ],\n       ...,\n       [0.85978951, 0.24766064, 0.        , ..., 0.        , 0.        ,\n        0.        ],\n       [0.87330995, 0.64067374, 0.        , ..., 0.        , 0.        ,\n        0.        ],\n       [0.08380307, 0.09856519, 0.        , ..., 0.        , 0.        ,\n        0.        ]])"
     },
     "execution_count": 34,
     "metadata": {},
     "output_type": "execute_result"
    }
   ],
   "source": [
    "# # Scale the data to be between 0 and 1\n",
    "# #scaler = StandardScaler()\n",
    "# scaler = MinMaxScaler()\n",
    "# scaler.fit(X_train[:,[0,1,2,3,5]])\n",
    "# X_train = scaler.transform(X_train[:,[0,1,2,3,5]])\n",
    "# X_test = scaler.transform(X_test[:,[0,1,2,3,5]])\n",
    "\n",
    "scaler = StandardScaler()\n",
    "X_train = scaler.fit_transform(X_train)\n",
    "X_test = scaler.transform(X_test)\n",
    "\n",
    "scaler = MinMaxScaler()\n",
    "X_train = scaler.fit_transform(X_train)\n",
    "X_test = scaler.transform(X_test)\n",
    "X_train\n"
   ],
   "metadata": {
    "collapsed": false,
    "ExecuteTime": {
     "end_time": "2023-10-17T13:58:29.905956Z",
     "start_time": "2023-10-17T13:58:29.841370Z"
    }
   },
   "id": "de67e3e47a91aa9e"
  },
  {
   "cell_type": "code",
   "execution_count": 45,
   "outputs": [
    {
     "name": "stdout",
     "output_type": "stream",
     "text": [
      "Mean Absolute Error (SVM): 33.060748138952256\n",
      "Mean Squared Error (SVM): 2152.7074780672765\n",
      "Root Mean Squared Error (SVM): 46.397278778687834\n",
      "\n",
      "Mean Absolute Error (RF): 32.85833091436865\n",
      "Mean Squared Error (RF): 2103.7281529753263\n",
      "Root Mean Squared Error (RF): 45.866416395608304\n"
     ]
    }
   ],
   "source": [
    "# Khởi tạo mô hình SVM với kernel tuyến tính và siêu tham số C mặc định\n",
    "svm_regressor = SVR(kernel='linear', C=200, epsilon=23)\n",
    "# Khởi tạo mô hình k-NN với số lân cận k (ví dụ: k=50)\n",
    "# knn_regressor = KNeighborsRegressor(n_neighbors=20)\n",
    "# Khởi tạo mô hình RandomForestRegressor với số cây (n_estimators) và các tham số khác\n",
    "rf_regressor = RandomForestRegressor(n_estimators=50, random_state=42)\n",
    "\n",
    "\n",
    "# Huấn luyện mô hình trên tập huấn luyện\n",
    "rf_regressor.fit(X_train, y_train)\n",
    "svm_regressor.fit(X_train, y_train)\n",
    "# knn_regressor.fit(X_train, y_train)\n",
    "\n",
    "\n",
    "\n",
    "# Dự đoán thời gian đến trên tập kiểm tra\n",
    "y_pred_rf = rf_regressor.predict(X_test)\n",
    "y_pred_svm = svm_regressor.predict(X_test)\n",
    "\n",
    "\n",
    "# Đánh giá mô hình\n",
    "mae_svm = mean_absolute_error(y_test, y_pred_svm)\n",
    "mae_rf = mean_absolute_error(y_test, y_pred_rf)\n",
    "\n",
    "mse_svm = mean_squared_error(y_test, y_pred_svm)\n",
    "mse_rf = mean_squared_error(y_test, y_pred_rf)\n",
    "\n",
    "r2_svm = r2_score(y_test, y_pred_svm)\n",
    "r2_rf = r2_score(y_test, y_pred_rf)\n",
    "\n",
    "\n",
    "print(f\"Mean Absolute Error (SVM): {mae_svm}\")\n",
    "print(f\"Mean Squared Error (SVM): {mse_svm}\")\n",
    "print(f\"Root Mean Squared Error (SVM): {math.sqrt(mse_svm)}\\n\")\n",
    "\n",
    "print(f\"Mean Absolute Error (RF): {mae_rf}\")\n",
    "print(f\"Mean Squared Error (RF): {mse_rf}\")\n",
    "print(f\"Root Mean Squared Error (RF): {math.sqrt(mse_rf)}\")"
   ],
   "metadata": {
    "collapsed": false,
    "ExecuteTime": {
     "end_time": "2023-10-17T14:01:15.650305Z",
     "start_time": "2023-10-17T14:01:14.754980Z"
    }
   },
   "id": "e154983831186a5d"
  },
  {
   "cell_type": "code",
   "execution_count": 36,
   "outputs": [],
   "source": [
    "# # # Try to get the lowest RMSE by using different Epsilon value\n",
    "# epsilons = np.arange(10,30)\n",
    "# scores = []\n",
    "# for e in epsilons:\n",
    "#     svm_regressor.set_params(epsilon=e)\n",
    "#     svm_regressor.fit(X_train, y_train)\n",
    "#     scores.append(math.sqrt(mean_squared_error(y_test, svm_regressor.predict(X_test))))\n",
    "# plt.plot(epsilons, scores)\n",
    "# plt.title(\"Epsilon effect\")\n",
    "# plt.xlabel(\"epsilon\")\n",
    "# plt.ylabel(\"RMSE\")\n",
    "# plt.show()"
   ],
   "metadata": {
    "collapsed": false,
    "ExecuteTime": {
     "end_time": "2023-10-17T13:58:31.348942Z",
     "start_time": "2023-10-17T13:58:31.346355Z"
    }
   },
   "id": "fd0aeabf0e2173ce"
  },
  {
   "cell_type": "code",
   "execution_count": 36,
   "outputs": [],
   "source": [],
   "metadata": {
    "collapsed": false,
    "ExecuteTime": {
     "end_time": "2023-10-17T13:58:31.351879Z",
     "start_time": "2023-10-17T13:58:31.348529Z"
    }
   },
   "id": "59bab3cc149e2525"
  }
 ],
 "metadata": {
  "kernelspec": {
   "display_name": "Python 3",
   "language": "python",
   "name": "python3"
  },
  "language_info": {
   "codemirror_mode": {
    "name": "ipython",
    "version": 2
   },
   "file_extension": ".py",
   "mimetype": "text/x-python",
   "name": "python",
   "nbconvert_exporter": "python",
   "pygments_lexer": "ipython2",
   "version": "2.7.6"
  }
 },
 "nbformat": 4,
 "nbformat_minor": 5
}
