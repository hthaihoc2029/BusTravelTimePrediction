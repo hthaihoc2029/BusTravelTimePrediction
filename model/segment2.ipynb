{
 "cells": [
  {
   "cell_type": "code",
   "execution_count": 371,
   "outputs": [],
   "source": [
    "import math\n",
    "import numpy as np\n",
    "import matplotlib.pyplot as plt\n",
    "import pandas as pd\n",
    "from sklearn.svm import SVR\n",
    "from sklearn.neighbors import KNeighborsRegressor\n",
    "from sklearn.ensemble import RandomForestRegressor\n",
    "from sklearn.model_selection import train_test_split\n",
    "#from sklearn.preprocessing import StandardScaler\n",
    "from sklearn.preprocessing import MinMaxScaler, StandardScaler, LabelEncoder\n",
    "from sklearn.metrics import mean_squared_error, mean_absolute_error, r2_score"
   ],
   "metadata": {
    "collapsed": false,
    "ExecuteTime": {
     "end_time": "2023-10-17T07:33:05.135059Z",
     "start_time": "2023-10-17T07:33:05.109291Z"
    }
   },
   "id": "c0b445addfb32c0f"
  },
  {
   "cell_type": "code",
   "execution_count": 372,
   "outputs": [],
   "source": [
    "SEGMENT = 2"
   ],
   "metadata": {
    "collapsed": false,
    "ExecuteTime": {
     "end_time": "2023-10-17T07:33:05.135558Z",
     "start_time": "2023-10-17T07:33:05.114343Z"
    }
   },
   "id": "4cfc45279f4b82d"
  },
  {
   "cell_type": "code",
   "execution_count": 373,
   "outputs": [
    {
     "data": {
      "text/plain": "      Unnamed: 0  trip_id  deviceid  direction  segment        date  \\\n0              1      1.0     262.0        1.0      2.0  2021-10-01   \n1             16      8.0     274.0        1.0      2.0  2021-10-01   \n2             31     10.0     123.0        1.0      2.0  2021-10-01   \n3             40     15.0     262.0        1.0      2.0  2021-10-01   \n4             55     21.0     274.0        1.0      2.0  2021-10-01   \n...          ...      ...       ...        ...      ...         ...   \n7033      171190  25364.0    1166.0        1.0      2.0  2022-11-01   \n7034      171205  25366.0    1358.0        1.0      2.0  2022-11-01   \n7035      171218  25368.0     284.0        1.0      2.0  2022-11-01   \n7036      171233  25369.0     513.0        1.0      2.0  2022-11-01   \n7037      171248  25370.0     121.0        1.0      2.0  2022-11-01   \n\n     start_time  end_time  run_time_in_seconds  length  weather date_in_week  \\\n0      06:42:12  06:45:42                210.0  1.2808        1       Friday   \n1      08:43:53  08:47:38                225.0  1.2808        1       Friday   \n2      09:15:09  09:18:50                221.0  1.2808        1       Friday   \n3      10:26:01  10:29:17                196.0  1.2808        1       Friday   \n4      11:56:59  11:59:59                180.0  1.2808        1       Friday   \n...         ...       ...                  ...     ...      ...          ...   \n7033   16:43:40  16:47:51                251.0  1.2800        1      Tuesday   \n7034   17:03:19  17:06:49                210.0  1.2800        1      Tuesday   \n7035   17:54:31  17:58:35                244.0  1.2800        1      Tuesday   \n7036   18:10:16  18:14:12                236.0  1.2800        1      Tuesday   \n7037   18:22:53  18:26:57                244.0  1.2800        1      Tuesday   \n\n      hour time_interval part_of_day  \n0        6           6-7     morning  \n1        8           8-9     morning  \n2        9          9-10     morning  \n3       10         10-11     morning  \n4       11         11-12     morning  \n...    ...           ...         ...  \n7033    16         16-17   afternoon  \n7034    17         17-18   afternoon  \n7035    17         17-18   afternoon  \n7036    18         18-19   afternoon  \n7037    18         18-19   afternoon  \n\n[7038 rows x 15 columns]",
      "text/html": "<div>\n<style scoped>\n    .dataframe tbody tr th:only-of-type {\n        vertical-align: middle;\n    }\n\n    .dataframe tbody tr th {\n        vertical-align: top;\n    }\n\n    .dataframe thead th {\n        text-align: right;\n    }\n</style>\n<table border=\"1\" class=\"dataframe\">\n  <thead>\n    <tr style=\"text-align: right;\">\n      <th></th>\n      <th>Unnamed: 0</th>\n      <th>trip_id</th>\n      <th>deviceid</th>\n      <th>direction</th>\n      <th>segment</th>\n      <th>date</th>\n      <th>start_time</th>\n      <th>end_time</th>\n      <th>run_time_in_seconds</th>\n      <th>length</th>\n      <th>weather</th>\n      <th>date_in_week</th>\n      <th>hour</th>\n      <th>time_interval</th>\n      <th>part_of_day</th>\n    </tr>\n  </thead>\n  <tbody>\n    <tr>\n      <th>0</th>\n      <td>1</td>\n      <td>1.0</td>\n      <td>262.0</td>\n      <td>1.0</td>\n      <td>2.0</td>\n      <td>2021-10-01</td>\n      <td>06:42:12</td>\n      <td>06:45:42</td>\n      <td>210.0</td>\n      <td>1.2808</td>\n      <td>1</td>\n      <td>Friday</td>\n      <td>6</td>\n      <td>6-7</td>\n      <td>morning</td>\n    </tr>\n    <tr>\n      <th>1</th>\n      <td>16</td>\n      <td>8.0</td>\n      <td>274.0</td>\n      <td>1.0</td>\n      <td>2.0</td>\n      <td>2021-10-01</td>\n      <td>08:43:53</td>\n      <td>08:47:38</td>\n      <td>225.0</td>\n      <td>1.2808</td>\n      <td>1</td>\n      <td>Friday</td>\n      <td>8</td>\n      <td>8-9</td>\n      <td>morning</td>\n    </tr>\n    <tr>\n      <th>2</th>\n      <td>31</td>\n      <td>10.0</td>\n      <td>123.0</td>\n      <td>1.0</td>\n      <td>2.0</td>\n      <td>2021-10-01</td>\n      <td>09:15:09</td>\n      <td>09:18:50</td>\n      <td>221.0</td>\n      <td>1.2808</td>\n      <td>1</td>\n      <td>Friday</td>\n      <td>9</td>\n      <td>9-10</td>\n      <td>morning</td>\n    </tr>\n    <tr>\n      <th>3</th>\n      <td>40</td>\n      <td>15.0</td>\n      <td>262.0</td>\n      <td>1.0</td>\n      <td>2.0</td>\n      <td>2021-10-01</td>\n      <td>10:26:01</td>\n      <td>10:29:17</td>\n      <td>196.0</td>\n      <td>1.2808</td>\n      <td>1</td>\n      <td>Friday</td>\n      <td>10</td>\n      <td>10-11</td>\n      <td>morning</td>\n    </tr>\n    <tr>\n      <th>4</th>\n      <td>55</td>\n      <td>21.0</td>\n      <td>274.0</td>\n      <td>1.0</td>\n      <td>2.0</td>\n      <td>2021-10-01</td>\n      <td>11:56:59</td>\n      <td>11:59:59</td>\n      <td>180.0</td>\n      <td>1.2808</td>\n      <td>1</td>\n      <td>Friday</td>\n      <td>11</td>\n      <td>11-12</td>\n      <td>morning</td>\n    </tr>\n    <tr>\n      <th>...</th>\n      <td>...</td>\n      <td>...</td>\n      <td>...</td>\n      <td>...</td>\n      <td>...</td>\n      <td>...</td>\n      <td>...</td>\n      <td>...</td>\n      <td>...</td>\n      <td>...</td>\n      <td>...</td>\n      <td>...</td>\n      <td>...</td>\n      <td>...</td>\n      <td>...</td>\n    </tr>\n    <tr>\n      <th>7033</th>\n      <td>171190</td>\n      <td>25364.0</td>\n      <td>1166.0</td>\n      <td>1.0</td>\n      <td>2.0</td>\n      <td>2022-11-01</td>\n      <td>16:43:40</td>\n      <td>16:47:51</td>\n      <td>251.0</td>\n      <td>1.2800</td>\n      <td>1</td>\n      <td>Tuesday</td>\n      <td>16</td>\n      <td>16-17</td>\n      <td>afternoon</td>\n    </tr>\n    <tr>\n      <th>7034</th>\n      <td>171205</td>\n      <td>25366.0</td>\n      <td>1358.0</td>\n      <td>1.0</td>\n      <td>2.0</td>\n      <td>2022-11-01</td>\n      <td>17:03:19</td>\n      <td>17:06:49</td>\n      <td>210.0</td>\n      <td>1.2800</td>\n      <td>1</td>\n      <td>Tuesday</td>\n      <td>17</td>\n      <td>17-18</td>\n      <td>afternoon</td>\n    </tr>\n    <tr>\n      <th>7035</th>\n      <td>171218</td>\n      <td>25368.0</td>\n      <td>284.0</td>\n      <td>1.0</td>\n      <td>2.0</td>\n      <td>2022-11-01</td>\n      <td>17:54:31</td>\n      <td>17:58:35</td>\n      <td>244.0</td>\n      <td>1.2800</td>\n      <td>1</td>\n      <td>Tuesday</td>\n      <td>17</td>\n      <td>17-18</td>\n      <td>afternoon</td>\n    </tr>\n    <tr>\n      <th>7036</th>\n      <td>171233</td>\n      <td>25369.0</td>\n      <td>513.0</td>\n      <td>1.0</td>\n      <td>2.0</td>\n      <td>2022-11-01</td>\n      <td>18:10:16</td>\n      <td>18:14:12</td>\n      <td>236.0</td>\n      <td>1.2800</td>\n      <td>1</td>\n      <td>Tuesday</td>\n      <td>18</td>\n      <td>18-19</td>\n      <td>afternoon</td>\n    </tr>\n    <tr>\n      <th>7037</th>\n      <td>171248</td>\n      <td>25370.0</td>\n      <td>121.0</td>\n      <td>1.0</td>\n      <td>2.0</td>\n      <td>2022-11-01</td>\n      <td>18:22:53</td>\n      <td>18:26:57</td>\n      <td>244.0</td>\n      <td>1.2800</td>\n      <td>1</td>\n      <td>Tuesday</td>\n      <td>18</td>\n      <td>18-19</td>\n      <td>afternoon</td>\n    </tr>\n  </tbody>\n</table>\n<p>7038 rows × 15 columns</p>\n</div>"
     },
     "execution_count": 373,
     "metadata": {},
     "output_type": "execute_result"
    }
   ],
   "source": [
    "df = pd.read_csv(f'../preprocess/all_segments/segment{SEGMENT}.csv')\n",
    "\n",
    "df.dropna(inplace=True)\n",
    "df"
   ],
   "metadata": {
    "collapsed": false,
    "ExecuteTime": {
     "end_time": "2023-10-17T07:33:05.149560Z",
     "start_time": "2023-10-17T07:33:05.117986Z"
    }
   },
   "id": "bf2021d7fcc29d70"
  },
  {
   "cell_type": "code",
   "execution_count": 374,
   "outputs": [
    {
     "data": {
      "text/plain": "      Unnamed: 0  trip_id  deviceid  direction  segment        date  \\\n0              1      1.0     262.0        1.0      2.0  2021-10-01   \n1             16      8.0     274.0        1.0      2.0  2021-10-01   \n2             31     10.0     123.0        1.0      2.0  2021-10-01   \n3             40     15.0     262.0        1.0      2.0  2021-10-01   \n4             55     21.0     274.0        1.0      2.0  2021-10-01   \n...          ...      ...       ...        ...      ...         ...   \n7033      171190  25364.0    1166.0        1.0      2.0  2022-11-01   \n7034      171205  25366.0    1358.0        1.0      2.0  2022-11-01   \n7035      171218  25368.0     284.0        1.0      2.0  2022-11-01   \n7036      171233  25369.0     513.0        1.0      2.0  2022-11-01   \n7037      171248  25370.0     121.0        1.0      2.0  2022-11-01   \n\n     start_time  end_time  run_time_in_seconds  length  ...  hour  \\\n0      06:42:12  06:45:42                210.0  1.2808  ...     6   \n1      08:43:53  08:47:38                225.0  1.2808  ...     8   \n2      09:15:09  09:18:50                221.0  1.2808  ...     9   \n3      10:26:01  10:29:17                196.0  1.2808  ...    10   \n4      11:56:59  11:59:59                180.0  1.2808  ...    11   \n...         ...       ...                  ...     ...  ...   ...   \n7033   16:43:40  16:47:51                251.0  1.2800  ...    16   \n7034   17:03:19  17:06:49                210.0  1.2800  ...    17   \n7035   17:54:31  17:58:35                244.0  1.2800  ...    17   \n7036   18:10:16  18:14:12                236.0  1.2800  ...    18   \n7037   18:22:53  18:26:57                244.0  1.2800  ...    18   \n\n      time_interval part_of_day  date_in_week_Friday  date_in_week_Monday  \\\n0               6-7           0                 True                False   \n1               8-9           0                 True                False   \n2              9-10           0                 True                False   \n3             10-11           0                 True                False   \n4             11-12           0                 True                False   \n...             ...         ...                  ...                  ...   \n7033          16-17           1                False                False   \n7034          17-18           1                False                False   \n7035          17-18           1                False                False   \n7036          18-19           1                False                False   \n7037          18-19           1                False                False   \n\n      date_in_week_Saturday  date_in_week_Sunday  date_in_week_Thursday  \\\n0                     False                False                  False   \n1                     False                False                  False   \n2                     False                False                  False   \n3                     False                False                  False   \n4                     False                False                  False   \n...                     ...                  ...                    ...   \n7033                  False                False                  False   \n7034                  False                False                  False   \n7035                  False                False                  False   \n7036                  False                False                  False   \n7037                  False                False                  False   \n\n      date_in_week_Tuesday  date_in_week_Wednesday  \n0                    False                   False  \n1                    False                   False  \n2                    False                   False  \n3                    False                   False  \n4                    False                   False  \n...                    ...                     ...  \n7033                  True                   False  \n7034                  True                   False  \n7035                  True                   False  \n7036                  True                   False  \n7037                  True                   False  \n\n[7038 rows x 21 columns]",
      "text/html": "<div>\n<style scoped>\n    .dataframe tbody tr th:only-of-type {\n        vertical-align: middle;\n    }\n\n    .dataframe tbody tr th {\n        vertical-align: top;\n    }\n\n    .dataframe thead th {\n        text-align: right;\n    }\n</style>\n<table border=\"1\" class=\"dataframe\">\n  <thead>\n    <tr style=\"text-align: right;\">\n      <th></th>\n      <th>Unnamed: 0</th>\n      <th>trip_id</th>\n      <th>deviceid</th>\n      <th>direction</th>\n      <th>segment</th>\n      <th>date</th>\n      <th>start_time</th>\n      <th>end_time</th>\n      <th>run_time_in_seconds</th>\n      <th>length</th>\n      <th>...</th>\n      <th>hour</th>\n      <th>time_interval</th>\n      <th>part_of_day</th>\n      <th>date_in_week_Friday</th>\n      <th>date_in_week_Monday</th>\n      <th>date_in_week_Saturday</th>\n      <th>date_in_week_Sunday</th>\n      <th>date_in_week_Thursday</th>\n      <th>date_in_week_Tuesday</th>\n      <th>date_in_week_Wednesday</th>\n    </tr>\n  </thead>\n  <tbody>\n    <tr>\n      <th>0</th>\n      <td>1</td>\n      <td>1.0</td>\n      <td>262.0</td>\n      <td>1.0</td>\n      <td>2.0</td>\n      <td>2021-10-01</td>\n      <td>06:42:12</td>\n      <td>06:45:42</td>\n      <td>210.0</td>\n      <td>1.2808</td>\n      <td>...</td>\n      <td>6</td>\n      <td>6-7</td>\n      <td>0</td>\n      <td>True</td>\n      <td>False</td>\n      <td>False</td>\n      <td>False</td>\n      <td>False</td>\n      <td>False</td>\n      <td>False</td>\n    </tr>\n    <tr>\n      <th>1</th>\n      <td>16</td>\n      <td>8.0</td>\n      <td>274.0</td>\n      <td>1.0</td>\n      <td>2.0</td>\n      <td>2021-10-01</td>\n      <td>08:43:53</td>\n      <td>08:47:38</td>\n      <td>225.0</td>\n      <td>1.2808</td>\n      <td>...</td>\n      <td>8</td>\n      <td>8-9</td>\n      <td>0</td>\n      <td>True</td>\n      <td>False</td>\n      <td>False</td>\n      <td>False</td>\n      <td>False</td>\n      <td>False</td>\n      <td>False</td>\n    </tr>\n    <tr>\n      <th>2</th>\n      <td>31</td>\n      <td>10.0</td>\n      <td>123.0</td>\n      <td>1.0</td>\n      <td>2.0</td>\n      <td>2021-10-01</td>\n      <td>09:15:09</td>\n      <td>09:18:50</td>\n      <td>221.0</td>\n      <td>1.2808</td>\n      <td>...</td>\n      <td>9</td>\n      <td>9-10</td>\n      <td>0</td>\n      <td>True</td>\n      <td>False</td>\n      <td>False</td>\n      <td>False</td>\n      <td>False</td>\n      <td>False</td>\n      <td>False</td>\n    </tr>\n    <tr>\n      <th>3</th>\n      <td>40</td>\n      <td>15.0</td>\n      <td>262.0</td>\n      <td>1.0</td>\n      <td>2.0</td>\n      <td>2021-10-01</td>\n      <td>10:26:01</td>\n      <td>10:29:17</td>\n      <td>196.0</td>\n      <td>1.2808</td>\n      <td>...</td>\n      <td>10</td>\n      <td>10-11</td>\n      <td>0</td>\n      <td>True</td>\n      <td>False</td>\n      <td>False</td>\n      <td>False</td>\n      <td>False</td>\n      <td>False</td>\n      <td>False</td>\n    </tr>\n    <tr>\n      <th>4</th>\n      <td>55</td>\n      <td>21.0</td>\n      <td>274.0</td>\n      <td>1.0</td>\n      <td>2.0</td>\n      <td>2021-10-01</td>\n      <td>11:56:59</td>\n      <td>11:59:59</td>\n      <td>180.0</td>\n      <td>1.2808</td>\n      <td>...</td>\n      <td>11</td>\n      <td>11-12</td>\n      <td>0</td>\n      <td>True</td>\n      <td>False</td>\n      <td>False</td>\n      <td>False</td>\n      <td>False</td>\n      <td>False</td>\n      <td>False</td>\n    </tr>\n    <tr>\n      <th>...</th>\n      <td>...</td>\n      <td>...</td>\n      <td>...</td>\n      <td>...</td>\n      <td>...</td>\n      <td>...</td>\n      <td>...</td>\n      <td>...</td>\n      <td>...</td>\n      <td>...</td>\n      <td>...</td>\n      <td>...</td>\n      <td>...</td>\n      <td>...</td>\n      <td>...</td>\n      <td>...</td>\n      <td>...</td>\n      <td>...</td>\n      <td>...</td>\n      <td>...</td>\n      <td>...</td>\n    </tr>\n    <tr>\n      <th>7033</th>\n      <td>171190</td>\n      <td>25364.0</td>\n      <td>1166.0</td>\n      <td>1.0</td>\n      <td>2.0</td>\n      <td>2022-11-01</td>\n      <td>16:43:40</td>\n      <td>16:47:51</td>\n      <td>251.0</td>\n      <td>1.2800</td>\n      <td>...</td>\n      <td>16</td>\n      <td>16-17</td>\n      <td>1</td>\n      <td>False</td>\n      <td>False</td>\n      <td>False</td>\n      <td>False</td>\n      <td>False</td>\n      <td>True</td>\n      <td>False</td>\n    </tr>\n    <tr>\n      <th>7034</th>\n      <td>171205</td>\n      <td>25366.0</td>\n      <td>1358.0</td>\n      <td>1.0</td>\n      <td>2.0</td>\n      <td>2022-11-01</td>\n      <td>17:03:19</td>\n      <td>17:06:49</td>\n      <td>210.0</td>\n      <td>1.2800</td>\n      <td>...</td>\n      <td>17</td>\n      <td>17-18</td>\n      <td>1</td>\n      <td>False</td>\n      <td>False</td>\n      <td>False</td>\n      <td>False</td>\n      <td>False</td>\n      <td>True</td>\n      <td>False</td>\n    </tr>\n    <tr>\n      <th>7035</th>\n      <td>171218</td>\n      <td>25368.0</td>\n      <td>284.0</td>\n      <td>1.0</td>\n      <td>2.0</td>\n      <td>2022-11-01</td>\n      <td>17:54:31</td>\n      <td>17:58:35</td>\n      <td>244.0</td>\n      <td>1.2800</td>\n      <td>...</td>\n      <td>17</td>\n      <td>17-18</td>\n      <td>1</td>\n      <td>False</td>\n      <td>False</td>\n      <td>False</td>\n      <td>False</td>\n      <td>False</td>\n      <td>True</td>\n      <td>False</td>\n    </tr>\n    <tr>\n      <th>7036</th>\n      <td>171233</td>\n      <td>25369.0</td>\n      <td>513.0</td>\n      <td>1.0</td>\n      <td>2.0</td>\n      <td>2022-11-01</td>\n      <td>18:10:16</td>\n      <td>18:14:12</td>\n      <td>236.0</td>\n      <td>1.2800</td>\n      <td>...</td>\n      <td>18</td>\n      <td>18-19</td>\n      <td>1</td>\n      <td>False</td>\n      <td>False</td>\n      <td>False</td>\n      <td>False</td>\n      <td>False</td>\n      <td>True</td>\n      <td>False</td>\n    </tr>\n    <tr>\n      <th>7037</th>\n      <td>171248</td>\n      <td>25370.0</td>\n      <td>121.0</td>\n      <td>1.0</td>\n      <td>2.0</td>\n      <td>2022-11-01</td>\n      <td>18:22:53</td>\n      <td>18:26:57</td>\n      <td>244.0</td>\n      <td>1.2800</td>\n      <td>...</td>\n      <td>18</td>\n      <td>18-19</td>\n      <td>1</td>\n      <td>False</td>\n      <td>False</td>\n      <td>False</td>\n      <td>False</td>\n      <td>False</td>\n      <td>True</td>\n      <td>False</td>\n    </tr>\n  </tbody>\n</table>\n<p>7038 rows × 21 columns</p>\n</div>"
     },
     "execution_count": 374,
     "metadata": {},
     "output_type": "execute_result"
    }
   ],
   "source": [
    "\n",
    "df = pd.get_dummies(df, columns=['date_in_week'])\n",
    "def label_encoding(x):\n",
    "    help = {\n",
    "        'Monday':2,\n",
    "        'Tuesday':3,\n",
    "        'Wednesday': 4,\n",
    "        'Thursday': 5,\n",
    "        'Friday': 6,\n",
    "        'Saturday': 7,\n",
    "        'Sunday': 1,\n",
    "        'morning': 0,\n",
    "        'afternoon': 1,\n",
    "        'evening': 2\n",
    "    }\n",
    "    return help[x]\n",
    "\n",
    "\n",
    "# df['date_in_week'] = df['date_in_week'].apply(label_encoding)\n",
    "df['part_of_day'] = df['part_of_day'].apply(label_encoding)\n",
    "\n",
    "df"
   ],
   "metadata": {
    "collapsed": false,
    "ExecuteTime": {
     "end_time": "2023-10-17T07:33:05.165690Z",
     "start_time": "2023-10-17T07:33:05.144601Z"
    }
   },
   "id": "dfd9ebbee7fcf884"
  },
  {
   "cell_type": "code",
   "execution_count": 374,
   "outputs": [],
   "source": [],
   "metadata": {
    "collapsed": false,
    "ExecuteTime": {
     "end_time": "2023-10-17T07:33:05.165866Z",
     "start_time": "2023-10-17T07:33:05.164254Z"
    }
   },
   "id": "7502c25e073996a5"
  },
  {
   "cell_type": "code",
   "execution_count": 375,
   "outputs": [
    {
     "data": {
      "text/plain": "array([[1.0, 262.0, 1.0, ..., False, False, False],\n       [8.0, 274.0, 1.0, ..., False, False, False],\n       [10.0, 123.0, 1.0, ..., False, False, False],\n       ...,\n       [25368.0, 284.0, 1.0, ..., False, True, False],\n       [25369.0, 513.0, 1.0, ..., False, True, False],\n       [25370.0, 121.0, 1.0, ..., False, True, False]], dtype=object)"
     },
     "execution_count": 375,
     "metadata": {},
     "output_type": "execute_result"
    }
   ],
   "source": [
    "# Extract the training and test data\n",
    "data = df.values\n",
    "X = data[:,[1,2,3,10,13,14,15,16,17,18,19,20]]\n",
    "# X = data[:,[1,2,3,10,11,14]]\n",
    "y = data[:,8]\n",
    "X"
   ],
   "metadata": {
    "collapsed": false,
    "ExecuteTime": {
     "end_time": "2023-10-17T07:33:05.174741Z",
     "start_time": "2023-10-17T07:33:05.170566Z"
    }
   },
   "id": "f898d59308d7070e"
  },
  {
   "cell_type": "code",
   "execution_count": 376,
   "outputs": [
    {
     "data": {
      "text/plain": "array([[3839.0, 121.0, 1.0, ..., False, False, False],\n       [2802.0, 117.0, 1.0, ..., False, True, False],\n       [7042.0, 1143.0, 1.0, ..., False, True, False],\n       ...,\n       [21063.0, 128.0, 1.0, ..., False, False, False],\n       [21890.0, 262.0, 1.0, ..., False, False, False],\n       [2096.0, 116.0, 1.0, ..., False, False, False]], dtype=object)"
     },
     "execution_count": 376,
     "metadata": {},
     "output_type": "execute_result"
    }
   ],
   "source": [
    "# Tính Z-score cho mỗi cột trong dữ liệu X\n",
    "z_scores = np.abs((X - X.mean()) / X.std())\n",
    "\n",
    "# Định một ngưỡng Z-score tùy ý (ví dụ: 3.0) để xác định outlier\n",
    "threshold = 3.0\n",
    "\n",
    "# Loại bỏ các dòng chứa outlier\n",
    "X_no_outliers = X[(z_scores < threshold).all(axis=1)]\n",
    "y_no_outliers = y[(z_scores < threshold).all(axis=1)]\n",
    "X_train, X_test, y_train, y_test = train_test_split(X, y, test_size=0.2, random_state=42)\n",
    "X_train"
   ],
   "metadata": {
    "collapsed": false,
    "ExecuteTime": {
     "end_time": "2023-10-17T07:33:05.216505Z",
     "start_time": "2023-10-17T07:33:05.190291Z"
    }
   },
   "id": "1850c6a3b0cd9894"
  },
  {
   "cell_type": "code",
   "execution_count": 377,
   "outputs": [
    {
     "data": {
      "text/plain": "array([[1.51287004e-01, 3.11915159e-03, 0.00000000e+00, ...,\n        0.00000000e+00, 0.00000000e+00, 0.00000000e+00],\n       [1.10410343e-01, 6.23830318e-04, 0.00000000e+00, ...,\n        0.00000000e+00, 1.00000000e+00, 0.00000000e+00],\n       [2.77543459e-01, 6.40673737e-01, 0.00000000e+00, ...,\n        0.00000000e+00, 1.00000000e+00, 0.00000000e+00],\n       ...,\n       [8.30225866e-01, 7.48596382e-03, 0.00000000e+00, ...,\n        0.00000000e+00, 0.00000000e+00, 0.00000000e+00],\n       [8.62824707e-01, 9.10792265e-02, 0.00000000e+00, ...,\n        0.00000000e+00, 0.00000000e+00, 0.00000000e+00],\n       [8.25811029e-02, 0.00000000e+00, 0.00000000e+00, ...,\n        0.00000000e+00, 0.00000000e+00, 0.00000000e+00]])"
     },
     "execution_count": 377,
     "metadata": {},
     "output_type": "execute_result"
    }
   ],
   "source": [
    "# # Scale the data to be between 0 and 1\n",
    "# #scaler = StandardScaler()\n",
    "# scaler = MinMaxScaler()\n",
    "# scaler.fit(X_train[:,[0,1,2,3,5]])\n",
    "# X_train = scaler.transform(X_train[:,[0,1,2,3,5]])\n",
    "# X_test = scaler.transform(X_test[:,[0,1,2,3,5]])\n",
    "\n",
    "# scaler = StandardScaler()\n",
    "# X_train = scaler.fit_transform(X_train)\n",
    "# X_test = scaler.transform(X_test)\n",
    "\n",
    "scaler = MinMaxScaler()\n",
    "X_train = scaler.fit_transform(X_train)\n",
    "X_test = scaler.transform(X_test)\n",
    "X_train\n"
   ],
   "metadata": {
    "collapsed": false,
    "ExecuteTime": {
     "end_time": "2023-10-17T07:33:05.220101Z",
     "start_time": "2023-10-17T07:33:05.196127Z"
    }
   },
   "id": "de67e3e47a91aa9e"
  },
  {
   "cell_type": "code",
   "execution_count": 378,
   "outputs": [
    {
     "name": "stdout",
     "output_type": "stream",
     "text": [
      "Mean Absolute Error (SVM): 44.63523360832177\n",
      "Mean Squared Error (SVM): 3772.9983868188156\n",
      "Root Mean Squared Error (SVM): 61.424737580382185\n",
      "\n",
      "Mean Absolute Error (kNN): 46.410789278656125\n",
      "Mean Squared Error (kNN): 3791.113699465114\n",
      "Root Mean Squared Error (kNN): 61.57202042701794\n",
      "\n",
      "Mean Absolute Error (RF): 43.04680397727273\n",
      "Mean Squared Error (RF): 3356.013146306818\n",
      "Root Mean Squared Error (RF): 57.93110689695837\n"
     ]
    }
   ],
   "source": [
    "# Khởi tạo mô hình SVM với kernel tuyến tính và siêu tham số C mặc định\n",
    "svm_regressor = SVR(kernel='rbf', C=1000, epsilon=18)\n",
    "# Khởi tạo mô hình k-NN với số lân cận k (ví dụ: k=50)\n",
    "knn_regressor = KNeighborsRegressor(n_neighbors=23)\n",
    "# Khởi tạo mô hình RandomForestRegressor với số cây (n_estimators) và các tham số khác\n",
    "rf_regressor = RandomForestRegressor(n_estimators=10, random_state=26)\n",
    "\n",
    "\n",
    "# Huấn luyện mô hình trên tập huấn luyện\n",
    "rf_regressor.fit(X_train, y_train)\n",
    "svm_regressor.fit(X_train, y_train)\n",
    "knn_regressor.fit(X_train, y_train)\n",
    "\n",
    "\n",
    "\n",
    "# Dự đoán thời gian đến trên tập kiểm tra\n",
    "y_pred_rf = rf_regressor.predict(X_test)\n",
    "y_pred_svm = svm_regressor.predict(X_test)\n",
    "y_pred_knn = knn_regressor.predict(X_test)\n",
    "\n",
    "\n",
    "# Đánh giá mô hình\n",
    "mae_svm = mean_absolute_error(y_test, y_pred_svm)\n",
    "mae_knn = mean_absolute_error(y_test, y_pred_knn)\n",
    "mae_rf = mean_absolute_error(y_test, y_pred_rf)\n",
    "\n",
    "mse_svm = mean_squared_error(y_test, y_pred_svm)\n",
    "mse_knn = mean_squared_error(y_test, y_pred_knn)\n",
    "mse_rf = mean_squared_error(y_test, y_pred_rf)\n",
    "\n",
    "r2_svm = r2_score(y_test, y_pred_svm)\n",
    "r2_knn = r2_score(y_test, y_pred_knn)\n",
    "r2_rf = r2_score(y_test, y_pred_rf)\n",
    "\n",
    "\n",
    "print(f\"Mean Absolute Error (SVM): {mae_svm}\")\n",
    "print(f\"Mean Squared Error (SVM): {mse_svm}\")\n",
    "print(f\"Root Mean Squared Error (SVM): {math.sqrt(mse_svm)}\\n\")\n",
    "\n",
    "print(f\"Mean Absolute Error (kNN): {mae_knn}\")\n",
    "print(f\"Mean Squared Error (kNN): {mse_knn}\")\n",
    "print(f\"Root Mean Squared Error (kNN): {math.sqrt(mse_knn)}\\n\")\n",
    "\n",
    "\n",
    "print(f\"Mean Absolute Error (RF): {mae_rf}\")\n",
    "print(f\"Mean Squared Error (RF): {mse_rf}\")\n",
    "print(f\"Root Mean Squared Error (RF): {math.sqrt(mse_rf)}\")"
   ],
   "metadata": {
    "collapsed": false,
    "ExecuteTime": {
     "end_time": "2023-10-17T07:33:06.225864Z",
     "start_time": "2023-10-17T07:33:05.206313Z"
    }
   },
   "id": "e154983831186a5d"
  },
  {
   "cell_type": "code",
   "execution_count": 379,
   "outputs": [
    {
     "ename": "KeyboardInterrupt",
     "evalue": "",
     "output_type": "error",
     "traceback": [
      "\u001B[0;31m---------------------------------------------------------------------------\u001B[0m",
      "\u001B[0;31mKeyboardInterrupt\u001B[0m                         Traceback (most recent call last)",
      "Cell \u001B[0;32mIn[379], line 6\u001B[0m\n\u001B[1;32m      4\u001B[0m \u001B[38;5;28;01mfor\u001B[39;00m e \u001B[38;5;129;01min\u001B[39;00m epsilons:\n\u001B[1;32m      5\u001B[0m     svm_regressor\u001B[38;5;241m.\u001B[39mset_params(kernel\u001B[38;5;241m=\u001B[39m\u001B[38;5;124m'\u001B[39m\u001B[38;5;124mrbf\u001B[39m\u001B[38;5;124m'\u001B[39m, epsilon\u001B[38;5;241m=\u001B[39me)\n\u001B[0;32m----> 6\u001B[0m     \u001B[43msvm_regressor\u001B[49m\u001B[38;5;241;43m.\u001B[39;49m\u001B[43mfit\u001B[49m\u001B[43m(\u001B[49m\u001B[43mX_train\u001B[49m\u001B[43m,\u001B[49m\u001B[43m \u001B[49m\u001B[43my_train\u001B[49m\u001B[43m)\u001B[49m\n\u001B[1;32m      7\u001B[0m     scores\u001B[38;5;241m.\u001B[39mappend(math\u001B[38;5;241m.\u001B[39msqrt(mean_squared_error(y_test, svm_regressor\u001B[38;5;241m.\u001B[39mpredict(X_test))))\n\u001B[1;32m      8\u001B[0m plt\u001B[38;5;241m.\u001B[39mplot(epsilons, scores)\n",
      "File \u001B[0;32m/Library/Frameworks/Python.framework/Versions/3.11/lib/python3.11/site-packages/sklearn/base.py:1152\u001B[0m, in \u001B[0;36m_fit_context.<locals>.decorator.<locals>.wrapper\u001B[0;34m(estimator, *args, **kwargs)\u001B[0m\n\u001B[1;32m   1145\u001B[0m     estimator\u001B[38;5;241m.\u001B[39m_validate_params()\n\u001B[1;32m   1147\u001B[0m \u001B[38;5;28;01mwith\u001B[39;00m config_context(\n\u001B[1;32m   1148\u001B[0m     skip_parameter_validation\u001B[38;5;241m=\u001B[39m(\n\u001B[1;32m   1149\u001B[0m         prefer_skip_nested_validation \u001B[38;5;129;01mor\u001B[39;00m global_skip_validation\n\u001B[1;32m   1150\u001B[0m     )\n\u001B[1;32m   1151\u001B[0m ):\n\u001B[0;32m-> 1152\u001B[0m     \u001B[38;5;28;01mreturn\u001B[39;00m \u001B[43mfit_method\u001B[49m\u001B[43m(\u001B[49m\u001B[43mestimator\u001B[49m\u001B[43m,\u001B[49m\u001B[43m \u001B[49m\u001B[38;5;241;43m*\u001B[39;49m\u001B[43margs\u001B[49m\u001B[43m,\u001B[49m\u001B[43m \u001B[49m\u001B[38;5;241;43m*\u001B[39;49m\u001B[38;5;241;43m*\u001B[39;49m\u001B[43mkwargs\u001B[49m\u001B[43m)\u001B[49m\n",
      "File \u001B[0;32m/Library/Frameworks/Python.framework/Versions/3.11/lib/python3.11/site-packages/sklearn/svm/_base.py:250\u001B[0m, in \u001B[0;36mBaseLibSVM.fit\u001B[0;34m(self, X, y, sample_weight)\u001B[0m\n\u001B[1;32m    247\u001B[0m     \u001B[38;5;28mprint\u001B[39m(\u001B[38;5;124m\"\u001B[39m\u001B[38;5;124m[LibSVM]\u001B[39m\u001B[38;5;124m\"\u001B[39m, end\u001B[38;5;241m=\u001B[39m\u001B[38;5;124m\"\u001B[39m\u001B[38;5;124m\"\u001B[39m)\n\u001B[1;32m    249\u001B[0m seed \u001B[38;5;241m=\u001B[39m rnd\u001B[38;5;241m.\u001B[39mrandint(np\u001B[38;5;241m.\u001B[39miinfo(\u001B[38;5;124m\"\u001B[39m\u001B[38;5;124mi\u001B[39m\u001B[38;5;124m\"\u001B[39m)\u001B[38;5;241m.\u001B[39mmax)\n\u001B[0;32m--> 250\u001B[0m \u001B[43mfit\u001B[49m\u001B[43m(\u001B[49m\u001B[43mX\u001B[49m\u001B[43m,\u001B[49m\u001B[43m \u001B[49m\u001B[43my\u001B[49m\u001B[43m,\u001B[49m\u001B[43m \u001B[49m\u001B[43msample_weight\u001B[49m\u001B[43m,\u001B[49m\u001B[43m \u001B[49m\u001B[43msolver_type\u001B[49m\u001B[43m,\u001B[49m\u001B[43m \u001B[49m\u001B[43mkernel\u001B[49m\u001B[43m,\u001B[49m\u001B[43m \u001B[49m\u001B[43mrandom_seed\u001B[49m\u001B[38;5;241;43m=\u001B[39;49m\u001B[43mseed\u001B[49m\u001B[43m)\u001B[49m\n\u001B[1;32m    251\u001B[0m \u001B[38;5;66;03m# see comment on the other call to np.iinfo in this file\u001B[39;00m\n\u001B[1;32m    253\u001B[0m \u001B[38;5;28mself\u001B[39m\u001B[38;5;241m.\u001B[39mshape_fit_ \u001B[38;5;241m=\u001B[39m X\u001B[38;5;241m.\u001B[39mshape \u001B[38;5;28;01mif\u001B[39;00m \u001B[38;5;28mhasattr\u001B[39m(X, \u001B[38;5;124m\"\u001B[39m\u001B[38;5;124mshape\u001B[39m\u001B[38;5;124m\"\u001B[39m) \u001B[38;5;28;01melse\u001B[39;00m (n_samples,)\n",
      "File \u001B[0;32m/Library/Frameworks/Python.framework/Versions/3.11/lib/python3.11/site-packages/sklearn/svm/_base.py:329\u001B[0m, in \u001B[0;36mBaseLibSVM._dense_fit\u001B[0;34m(self, X, y, sample_weight, solver_type, kernel, random_seed)\u001B[0m\n\u001B[1;32m    315\u001B[0m libsvm\u001B[38;5;241m.\u001B[39mset_verbosity_wrap(\u001B[38;5;28mself\u001B[39m\u001B[38;5;241m.\u001B[39mverbose)\n\u001B[1;32m    317\u001B[0m \u001B[38;5;66;03m# we don't pass **self.get_params() to allow subclasses to\u001B[39;00m\n\u001B[1;32m    318\u001B[0m \u001B[38;5;66;03m# add other parameters to __init__\u001B[39;00m\n\u001B[1;32m    319\u001B[0m (\n\u001B[1;32m    320\u001B[0m     \u001B[38;5;28mself\u001B[39m\u001B[38;5;241m.\u001B[39msupport_,\n\u001B[1;32m    321\u001B[0m     \u001B[38;5;28mself\u001B[39m\u001B[38;5;241m.\u001B[39msupport_vectors_,\n\u001B[1;32m    322\u001B[0m     \u001B[38;5;28mself\u001B[39m\u001B[38;5;241m.\u001B[39m_n_support,\n\u001B[1;32m    323\u001B[0m     \u001B[38;5;28mself\u001B[39m\u001B[38;5;241m.\u001B[39mdual_coef_,\n\u001B[1;32m    324\u001B[0m     \u001B[38;5;28mself\u001B[39m\u001B[38;5;241m.\u001B[39mintercept_,\n\u001B[1;32m    325\u001B[0m     \u001B[38;5;28mself\u001B[39m\u001B[38;5;241m.\u001B[39m_probA,\n\u001B[1;32m    326\u001B[0m     \u001B[38;5;28mself\u001B[39m\u001B[38;5;241m.\u001B[39m_probB,\n\u001B[1;32m    327\u001B[0m     \u001B[38;5;28mself\u001B[39m\u001B[38;5;241m.\u001B[39mfit_status_,\n\u001B[1;32m    328\u001B[0m     \u001B[38;5;28mself\u001B[39m\u001B[38;5;241m.\u001B[39m_num_iter,\n\u001B[0;32m--> 329\u001B[0m ) \u001B[38;5;241m=\u001B[39m \u001B[43mlibsvm\u001B[49m\u001B[38;5;241;43m.\u001B[39;49m\u001B[43mfit\u001B[49m\u001B[43m(\u001B[49m\n\u001B[1;32m    330\u001B[0m \u001B[43m    \u001B[49m\u001B[43mX\u001B[49m\u001B[43m,\u001B[49m\n\u001B[1;32m    331\u001B[0m \u001B[43m    \u001B[49m\u001B[43my\u001B[49m\u001B[43m,\u001B[49m\n\u001B[1;32m    332\u001B[0m \u001B[43m    \u001B[49m\u001B[43msvm_type\u001B[49m\u001B[38;5;241;43m=\u001B[39;49m\u001B[43msolver_type\u001B[49m\u001B[43m,\u001B[49m\n\u001B[1;32m    333\u001B[0m \u001B[43m    \u001B[49m\u001B[43msample_weight\u001B[49m\u001B[38;5;241;43m=\u001B[39;49m\u001B[43msample_weight\u001B[49m\u001B[43m,\u001B[49m\n\u001B[1;32m    334\u001B[0m \u001B[43m    \u001B[49m\u001B[38;5;66;43;03m# TODO(1.4): Replace \"_class_weight\" with \"class_weight_\"\u001B[39;49;00m\n\u001B[1;32m    335\u001B[0m \u001B[43m    \u001B[49m\u001B[43mclass_weight\u001B[49m\u001B[38;5;241;43m=\u001B[39;49m\u001B[38;5;28;43mgetattr\u001B[39;49m\u001B[43m(\u001B[49m\u001B[38;5;28;43mself\u001B[39;49m\u001B[43m,\u001B[49m\u001B[43m \u001B[49m\u001B[38;5;124;43m\"\u001B[39;49m\u001B[38;5;124;43m_class_weight\u001B[39;49m\u001B[38;5;124;43m\"\u001B[39;49m\u001B[43m,\u001B[49m\u001B[43m \u001B[49m\u001B[43mnp\u001B[49m\u001B[38;5;241;43m.\u001B[39;49m\u001B[43mempty\u001B[49m\u001B[43m(\u001B[49m\u001B[38;5;241;43m0\u001B[39;49m\u001B[43m)\u001B[49m\u001B[43m)\u001B[49m\u001B[43m,\u001B[49m\n\u001B[1;32m    336\u001B[0m \u001B[43m    \u001B[49m\u001B[43mkernel\u001B[49m\u001B[38;5;241;43m=\u001B[39;49m\u001B[43mkernel\u001B[49m\u001B[43m,\u001B[49m\n\u001B[1;32m    337\u001B[0m \u001B[43m    \u001B[49m\u001B[43mC\u001B[49m\u001B[38;5;241;43m=\u001B[39;49m\u001B[38;5;28;43mself\u001B[39;49m\u001B[38;5;241;43m.\u001B[39;49m\u001B[43mC\u001B[49m\u001B[43m,\u001B[49m\n\u001B[1;32m    338\u001B[0m \u001B[43m    \u001B[49m\u001B[43mnu\u001B[49m\u001B[38;5;241;43m=\u001B[39;49m\u001B[38;5;28;43mself\u001B[39;49m\u001B[38;5;241;43m.\u001B[39;49m\u001B[43mnu\u001B[49m\u001B[43m,\u001B[49m\n\u001B[1;32m    339\u001B[0m \u001B[43m    \u001B[49m\u001B[43mprobability\u001B[49m\u001B[38;5;241;43m=\u001B[39;49m\u001B[38;5;28;43mself\u001B[39;49m\u001B[38;5;241;43m.\u001B[39;49m\u001B[43mprobability\u001B[49m\u001B[43m,\u001B[49m\n\u001B[1;32m    340\u001B[0m \u001B[43m    \u001B[49m\u001B[43mdegree\u001B[49m\u001B[38;5;241;43m=\u001B[39;49m\u001B[38;5;28;43mself\u001B[39;49m\u001B[38;5;241;43m.\u001B[39;49m\u001B[43mdegree\u001B[49m\u001B[43m,\u001B[49m\n\u001B[1;32m    341\u001B[0m \u001B[43m    \u001B[49m\u001B[43mshrinking\u001B[49m\u001B[38;5;241;43m=\u001B[39;49m\u001B[38;5;28;43mself\u001B[39;49m\u001B[38;5;241;43m.\u001B[39;49m\u001B[43mshrinking\u001B[49m\u001B[43m,\u001B[49m\n\u001B[1;32m    342\u001B[0m \u001B[43m    \u001B[49m\u001B[43mtol\u001B[49m\u001B[38;5;241;43m=\u001B[39;49m\u001B[38;5;28;43mself\u001B[39;49m\u001B[38;5;241;43m.\u001B[39;49m\u001B[43mtol\u001B[49m\u001B[43m,\u001B[49m\n\u001B[1;32m    343\u001B[0m \u001B[43m    \u001B[49m\u001B[43mcache_size\u001B[49m\u001B[38;5;241;43m=\u001B[39;49m\u001B[38;5;28;43mself\u001B[39;49m\u001B[38;5;241;43m.\u001B[39;49m\u001B[43mcache_size\u001B[49m\u001B[43m,\u001B[49m\n\u001B[1;32m    344\u001B[0m \u001B[43m    \u001B[49m\u001B[43mcoef0\u001B[49m\u001B[38;5;241;43m=\u001B[39;49m\u001B[38;5;28;43mself\u001B[39;49m\u001B[38;5;241;43m.\u001B[39;49m\u001B[43mcoef0\u001B[49m\u001B[43m,\u001B[49m\n\u001B[1;32m    345\u001B[0m \u001B[43m    \u001B[49m\u001B[43mgamma\u001B[49m\u001B[38;5;241;43m=\u001B[39;49m\u001B[38;5;28;43mself\u001B[39;49m\u001B[38;5;241;43m.\u001B[39;49m\u001B[43m_gamma\u001B[49m\u001B[43m,\u001B[49m\n\u001B[1;32m    346\u001B[0m \u001B[43m    \u001B[49m\u001B[43mepsilon\u001B[49m\u001B[38;5;241;43m=\u001B[39;49m\u001B[38;5;28;43mself\u001B[39;49m\u001B[38;5;241;43m.\u001B[39;49m\u001B[43mepsilon\u001B[49m\u001B[43m,\u001B[49m\n\u001B[1;32m    347\u001B[0m \u001B[43m    \u001B[49m\u001B[43mmax_iter\u001B[49m\u001B[38;5;241;43m=\u001B[39;49m\u001B[38;5;28;43mself\u001B[39;49m\u001B[38;5;241;43m.\u001B[39;49m\u001B[43mmax_iter\u001B[49m\u001B[43m,\u001B[49m\n\u001B[1;32m    348\u001B[0m \u001B[43m    \u001B[49m\u001B[43mrandom_seed\u001B[49m\u001B[38;5;241;43m=\u001B[39;49m\u001B[43mrandom_seed\u001B[49m\u001B[43m,\u001B[49m\n\u001B[1;32m    349\u001B[0m \u001B[43m\u001B[49m\u001B[43m)\u001B[49m\n\u001B[1;32m    351\u001B[0m \u001B[38;5;28mself\u001B[39m\u001B[38;5;241m.\u001B[39m_warn_from_fit_status()\n",
      "File \u001B[0;32msklearn/svm/_libsvm.pyx:265\u001B[0m, in \u001B[0;36msklearn.svm._libsvm.fit\u001B[0;34m()\u001B[0m\n",
      "\u001B[0;31mKeyboardInterrupt\u001B[0m: "
     ]
    }
   ],
   "source": [
    "# # Try to get the lowest RMSE by using different Epsilon value\n",
    "epsilons = np.arange(10,20)\n",
    "scores = []\n",
    "for e in epsilons:\n",
    "    svm_regressor.set_params(kernel='rbf', epsilon=e)\n",
    "    svm_regressor.fit(X_train, y_train)\n",
    "    scores.append(math.sqrt(mean_squared_error(y_test, svm_regressor.predict(X_test))))\n",
    "plt.plot(epsilons, scores)\n",
    "plt.title(\"Epsilon effect\")\n",
    "plt.xlabel(\"epsilon\")\n",
    "plt.ylabel(\"RMSE\")\n",
    "plt.show()"
   ],
   "metadata": {
    "collapsed": false,
    "ExecuteTime": {
     "end_time": "2023-10-17T07:33:13.393061Z",
     "start_time": "2023-10-17T07:33:06.227618Z"
    }
   },
   "id": "fd0aeabf0e2173ce"
  },
  {
   "cell_type": "code",
   "execution_count": null,
   "outputs": [],
   "source": [
    "# # Try to get the lowest RMSE by using different Epsilon value\n",
    "C = np.array([   1,  10, 100, 200, 300])\n",
    "scores = []\n",
    "for c in C:\n",
    "    svm_regressor.set_params(kernel='rbf', C=c)\n",
    "    svm_regressor.fit(X_train, y_train)\n",
    "    scores.append(math.sqrt(mean_squared_error(y_test, svm_regressor.predict(X_test))))\n",
    "plt.plot(C, scores)\n",
    "plt.title(\"Epsilon effect\")\n",
    "plt.xlabel(\"C\")\n",
    "plt.ylabel(\"RMSE\")\n",
    "plt.show()"
   ],
   "metadata": {
    "collapsed": false,
    "ExecuteTime": {
     "end_time": "2023-10-17T07:33:13.396296Z",
     "start_time": "2023-10-17T07:33:13.394518Z"
    }
   },
   "id": "59bab3cc149e2525"
  },
  {
   "cell_type": "code",
   "execution_count": null,
   "outputs": [],
   "source": [],
   "metadata": {
    "collapsed": false,
    "ExecuteTime": {
     "start_time": "2023-10-17T07:33:13.395760Z"
    }
   },
   "id": "d206a28575508a17"
  },
  {
   "cell_type": "code",
   "execution_count": null,
   "outputs": [],
   "source": [],
   "metadata": {
    "collapsed": false,
    "ExecuteTime": {
     "start_time": "2023-10-17T07:33:13.396771Z"
    }
   },
   "id": "3942d825cb8f9be7"
  },
  {
   "cell_type": "code",
   "execution_count": null,
   "outputs": [],
   "source": [],
   "metadata": {
    "collapsed": false,
    "ExecuteTime": {
     "start_time": "2023-10-17T07:33:13.397447Z"
    }
   },
   "id": "58775da6f8ff338a"
  }
 ],
 "metadata": {
  "kernelspec": {
   "display_name": "Python 3",
   "language": "python",
   "name": "python3"
  },
  "language_info": {
   "codemirror_mode": {
    "name": "ipython",
    "version": 2
   },
   "file_extension": ".py",
   "mimetype": "text/x-python",
   "name": "python",
   "nbconvert_exporter": "python",
   "pygments_lexer": "ipython2",
   "version": "2.7.6"
  }
 },
 "nbformat": 4,
 "nbformat_minor": 5
}
