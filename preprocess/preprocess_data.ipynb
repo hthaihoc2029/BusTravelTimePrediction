{
 "cells": [
  {
   "cell_type": "code",
   "execution_count": 240,
   "id": "initial_id",
   "metadata": {
    "collapsed": true,
    "ExecuteTime": {
     "end_time": "2023-10-17T07:05:53.232246Z",
     "start_time": "2023-10-17T07:05:53.174471Z"
    }
   },
   "outputs": [],
   "source": [
    "import pandas as pd\n",
    "from datetime import datetime"
   ]
  },
  {
   "cell_type": "code",
   "execution_count": 241,
   "outputs": [],
   "source": [
    "# Number of file segment need to split\n",
    "FILE_SEGMENT = 1"
   ],
   "metadata": {
    "collapsed": false,
    "ExecuteTime": {
     "end_time": "2023-10-17T07:05:53.234179Z",
     "start_time": "2023-10-17T07:05:53.178013Z"
    }
   },
   "id": "80660193b147e0db"
  },
  {
   "cell_type": "markdown",
   "source": [
    "# 1. Read the dataset"
   ],
   "metadata": {
    "collapsed": false
   },
   "id": "318985290f6bf82f"
  },
  {
   "cell_type": "code",
   "execution_count": 242,
   "outputs": [
    {
     "data": {
      "text/plain": "        trip_id  deviceid  direction  segment        date start_time  \\\n0           1.0     262.0        1.0      1.0  2021-10-01   06:39:49   \n1           1.0     262.0        1.0      2.0  2021-10-01   06:42:12   \n2           1.0     262.0        1.0      3.0  2021-10-01   06:45:42   \n3           1.0     262.0        1.0      4.0  2021-10-01   06:54:04   \n4           1.0     262.0        1.0      5.0  2021-10-01   06:57:19   \n...         ...       ...        ...      ...         ...        ...   \n200657  25367.0    1377.0        2.0     30.0  2022-11-01   18:17:36   \n200658  25367.0    1377.0        2.0     31.0  2022-11-01   18:24:21   \n200659  25367.0    1377.0        2.0     32.0  2022-11-01   18:25:49   \n200660  25367.0    1377.0        2.0     33.0  2022-11-01   18:28:10   \n200661  25367.0    1377.0        2.0     34.0  2022-11-01   18:31:25   \n\n        end_time  run_time_in_seconds  length  weather  \n0       06:40:58                 69.0  0.6261        1  \n1       06:45:42                210.0  1.2808        1  \n2       06:53:58                496.0  2.1125        1  \n3       06:57:19                195.0  1.5513        1  \n4       06:58:56                 97.0  0.8450        1  \n...          ...                  ...     ...      ...  \n200657  18:24:21                405.0  2.5600        1  \n200658  18:25:36                 75.0  0.4200        1  \n200659  18:28:10                141.0  1.3000        1  \n200660  18:31:25                195.0  1.2200        1  \n200661  18:33:10                105.0  0.6600        1  \n\n[200662 rows x 10 columns]",
      "text/html": "<div>\n<style scoped>\n    .dataframe tbody tr th:only-of-type {\n        vertical-align: middle;\n    }\n\n    .dataframe tbody tr th {\n        vertical-align: top;\n    }\n\n    .dataframe thead th {\n        text-align: right;\n    }\n</style>\n<table border=\"1\" class=\"dataframe\">\n  <thead>\n    <tr style=\"text-align: right;\">\n      <th></th>\n      <th>trip_id</th>\n      <th>deviceid</th>\n      <th>direction</th>\n      <th>segment</th>\n      <th>date</th>\n      <th>start_time</th>\n      <th>end_time</th>\n      <th>run_time_in_seconds</th>\n      <th>length</th>\n      <th>weather</th>\n    </tr>\n  </thead>\n  <tbody>\n    <tr>\n      <th>0</th>\n      <td>1.0</td>\n      <td>262.0</td>\n      <td>1.0</td>\n      <td>1.0</td>\n      <td>2021-10-01</td>\n      <td>06:39:49</td>\n      <td>06:40:58</td>\n      <td>69.0</td>\n      <td>0.6261</td>\n      <td>1</td>\n    </tr>\n    <tr>\n      <th>1</th>\n      <td>1.0</td>\n      <td>262.0</td>\n      <td>1.0</td>\n      <td>2.0</td>\n      <td>2021-10-01</td>\n      <td>06:42:12</td>\n      <td>06:45:42</td>\n      <td>210.0</td>\n      <td>1.2808</td>\n      <td>1</td>\n    </tr>\n    <tr>\n      <th>2</th>\n      <td>1.0</td>\n      <td>262.0</td>\n      <td>1.0</td>\n      <td>3.0</td>\n      <td>2021-10-01</td>\n      <td>06:45:42</td>\n      <td>06:53:58</td>\n      <td>496.0</td>\n      <td>2.1125</td>\n      <td>1</td>\n    </tr>\n    <tr>\n      <th>3</th>\n      <td>1.0</td>\n      <td>262.0</td>\n      <td>1.0</td>\n      <td>4.0</td>\n      <td>2021-10-01</td>\n      <td>06:54:04</td>\n      <td>06:57:19</td>\n      <td>195.0</td>\n      <td>1.5513</td>\n      <td>1</td>\n    </tr>\n    <tr>\n      <th>4</th>\n      <td>1.0</td>\n      <td>262.0</td>\n      <td>1.0</td>\n      <td>5.0</td>\n      <td>2021-10-01</td>\n      <td>06:57:19</td>\n      <td>06:58:56</td>\n      <td>97.0</td>\n      <td>0.8450</td>\n      <td>1</td>\n    </tr>\n    <tr>\n      <th>...</th>\n      <td>...</td>\n      <td>...</td>\n      <td>...</td>\n      <td>...</td>\n      <td>...</td>\n      <td>...</td>\n      <td>...</td>\n      <td>...</td>\n      <td>...</td>\n      <td>...</td>\n    </tr>\n    <tr>\n      <th>200657</th>\n      <td>25367.0</td>\n      <td>1377.0</td>\n      <td>2.0</td>\n      <td>30.0</td>\n      <td>2022-11-01</td>\n      <td>18:17:36</td>\n      <td>18:24:21</td>\n      <td>405.0</td>\n      <td>2.5600</td>\n      <td>1</td>\n    </tr>\n    <tr>\n      <th>200658</th>\n      <td>25367.0</td>\n      <td>1377.0</td>\n      <td>2.0</td>\n      <td>31.0</td>\n      <td>2022-11-01</td>\n      <td>18:24:21</td>\n      <td>18:25:36</td>\n      <td>75.0</td>\n      <td>0.4200</td>\n      <td>1</td>\n    </tr>\n    <tr>\n      <th>200659</th>\n      <td>25367.0</td>\n      <td>1377.0</td>\n      <td>2.0</td>\n      <td>32.0</td>\n      <td>2022-11-01</td>\n      <td>18:25:49</td>\n      <td>18:28:10</td>\n      <td>141.0</td>\n      <td>1.3000</td>\n      <td>1</td>\n    </tr>\n    <tr>\n      <th>200660</th>\n      <td>25367.0</td>\n      <td>1377.0</td>\n      <td>2.0</td>\n      <td>33.0</td>\n      <td>2022-11-01</td>\n      <td>18:28:10</td>\n      <td>18:31:25</td>\n      <td>195.0</td>\n      <td>1.2200</td>\n      <td>1</td>\n    </tr>\n    <tr>\n      <th>200661</th>\n      <td>25367.0</td>\n      <td>1377.0</td>\n      <td>2.0</td>\n      <td>34.0</td>\n      <td>2022-11-01</td>\n      <td>18:31:25</td>\n      <td>18:33:10</td>\n      <td>105.0</td>\n      <td>0.6600</td>\n      <td>1</td>\n    </tr>\n  </tbody>\n</table>\n<p>200662 rows × 10 columns</p>\n</div>"
     },
     "execution_count": 242,
     "metadata": {},
     "output_type": "execute_result"
    }
   ],
   "source": [
    "data = pd.read_csv('./bus_running_times.csv', usecols=lambda column: column != 'Unnamed: 0')\n",
    "data"
   ],
   "metadata": {
    "collapsed": false,
    "ExecuteTime": {
     "end_time": "2023-10-17T07:05:53.342002Z",
     "start_time": "2023-10-17T07:05:53.183343Z"
    }
   },
   "id": "473ee34d104239d"
  },
  {
   "cell_type": "markdown",
   "source": [
    "# 2. Understanding Dataset"
   ],
   "metadata": {
    "collapsed": false
   },
   "id": "b0217746b8101303"
  },
  {
   "cell_type": "code",
   "execution_count": 243,
   "outputs": [
    {
     "name": "stdout",
     "output_type": "stream",
     "text": [
      "Overview of the dataset:\n",
      "\n",
      "Number of rows:  200662\n",
      "\n",
      "Number of features: 10\n",
      "\n",
      "Data Features:\n",
      "['trip_id', 'deviceid', 'direction', 'segment', 'date', 'start_time', 'end_time', 'run_time_in_seconds', 'length', 'weather']\n",
      "\n",
      "Missing values: 0\n",
      "\n",
      "Unique values:\n",
      "trip_id                14126\n",
      "deviceid                  26\n",
      "direction                  2\n",
      "segment                   29\n",
      "date                     272\n",
      "start_time             51696\n",
      "end_time               51683\n",
      "run_time_in_seconds      999\n",
      "length                    55\n",
      "weather                    2\n",
      "dtype: int64\n"
     ]
    }
   ],
   "source": [
    "def dataoveriew(data, message):\n",
    "    print(f'{message}:\\n')\n",
    "    print('Number of rows: ', data.shape[0])\n",
    "    print(\"\\nNumber of features:\", data.shape[1])\n",
    "    print(\"\\nData Features:\")\n",
    "    print(data.columns.tolist())\n",
    "    print(\"\\nMissing values:\", data.isnull().sum().values.sum())\n",
    "    print(\"\\nUnique values:\")\n",
    "    print(data.nunique())\n",
    "\n",
    "dataoveriew(data, 'Overview of the dataset')"
   ],
   "metadata": {
    "collapsed": false,
    "ExecuteTime": {
     "end_time": "2023-10-17T07:05:53.398126Z",
     "start_time": "2023-10-17T07:05:53.340460Z"
    }
   },
   "id": "66d977f79d52564e"
  },
  {
   "cell_type": "markdown",
   "source": [
    "## 2.1. Explore each Column"
   ],
   "metadata": {
    "collapsed": false
   },
   "id": "3de7f5d7aac0275"
  },
  {
   "cell_type": "markdown",
   "source": [
    "### trip_id"
   ],
   "metadata": {
    "collapsed": false
   },
   "id": "36037654b63e4e7d"
  },
  {
   "cell_type": "code",
   "execution_count": 244,
   "outputs": [
    {
     "data": {
      "text/plain": "trip_id\n1.0        15\n9605.0     15\n9603.0     15\n9602.0     15\n9598.0     15\n           ..\n20187.0     1\n1746.0      1\n24106.0     1\n24760.0     1\n6688.0      1\nName: count, Length: 14126, dtype: int64"
     },
     "execution_count": 244,
     "metadata": {},
     "output_type": "execute_result"
    }
   ],
   "source": [
    "data['trip_id'].value_counts()"
   ],
   "metadata": {
    "collapsed": false,
    "ExecuteTime": {
     "end_time": "2023-10-17T07:05:53.398304Z",
     "start_time": "2023-10-17T07:05:53.384361Z"
    }
   },
   "id": "a51a15483a33ed5e"
  },
  {
   "cell_type": "markdown",
   "source": [
    "Unique Trip id for every recorded bus trip"
   ],
   "metadata": {
    "collapsed": false
   },
   "id": "b8dc2ebd65cd5018"
  },
  {
   "cell_type": "markdown",
   "source": [
    "### deviceid"
   ],
   "metadata": {
    "collapsed": false
   },
   "id": "a5cd9b00984dadeb"
  },
  {
   "cell_type": "code",
   "execution_count": 245,
   "outputs": [
    {
     "data": {
      "text/plain": "deviceid\n274.0     15192\n505.0     14470\n279.0     14286\n116.0     13522\n123.0     13488\n262.0     13277\n128.0     10985\n1143.0    10903\n121.0     10874\n1358.0    10503\n250.0      8815\n1408.0     8806\n1377.0     8741\n117.0      8670\n264.0      7554\n294.0      5510\n1410.0     5130\n513.0      5089\n275.0      3292\n1409.0     3227\n1718.0     2855\n1166.0     2496\n1719.0     1486\n284.0      1192\n209.0       189\n550.0       110\nName: count, dtype: int64"
     },
     "execution_count": 245,
     "metadata": {},
     "output_type": "execute_result"
    }
   ],
   "source": [
    "data['deviceid'].value_counts()"
   ],
   "metadata": {
    "collapsed": false,
    "ExecuteTime": {
     "end_time": "2023-10-17T07:05:53.398411Z",
     "start_time": "2023-10-17T07:05:53.391328Z"
    }
   },
   "id": "4eb094529f86eab4"
  },
  {
   "cell_type": "markdown",
   "source": [
    "Total 26 devices are used to collect data on buses. Each device has been used on many trips. And this unique id for every bus running indicates a behavioural feature."
   ],
   "metadata": {
    "collapsed": false
   },
   "id": "b5998323e5595afa"
  },
  {
   "cell_type": "markdown",
   "source": [
    "### Direction\n",
    "Only has 2 values. direction 1 is from Kandy to Digana/Kadugannawa & direction 2 is vice versa"
   ],
   "metadata": {
    "collapsed": false
   },
   "id": "adf1d3d23286b8bd"
  },
  {
   "cell_type": "markdown",
   "source": [
    "### Segment\n",
    "Route segments which are in between stops named 1 to 15 for Kandy Digana direction while 21 to 34 for Digana to Kandy direction"
   ],
   "metadata": {
    "collapsed": false
   },
   "id": "b41e00e6df998812"
  },
  {
   "cell_type": "markdown",
   "source": [
    "### Date\n",
    "Time window for the data collected: 01/10/2021 to 28/02/2022 & 01/07/2022 to 01/11/2022 (9 months)"
   ],
   "metadata": {
    "collapsed": false
   },
   "id": "9186301d29dfea25"
  },
  {
   "cell_type": "markdown",
   "source": [
    "### Start_time\n",
    "Exiting time from the Bus stop OR start time for the segment"
   ],
   "metadata": {
    "collapsed": false
   },
   "id": "f81ccad809a82f46"
  },
  {
   "cell_type": "markdown",
   "source": [
    "### End_time\n",
    "Arriving time at the successive Bus Stop OR end time for the run in the segment"
   ],
   "metadata": {
    "collapsed": false
   },
   "id": "5b5e60537e5a8efb"
  },
  {
   "cell_type": "markdown",
   "source": [
    "### Run_time_in_seconds\n",
    "Running time in between the two stops (the unit of seconds)"
   ],
   "metadata": {
    "collapsed": false
   },
   "id": "9fe8852444cc5e00"
  },
  {
   "cell_type": "markdown",
   "source": [
    "### Length\n",
    "Distance between two stops (the unit of kilometers)"
   ],
   "metadata": {
    "collapsed": false
   },
   "id": "1843baadfb725d86"
  },
  {
   "cell_type": "markdown",
   "source": [
    "# 3. Cleaning the dataset\n",
    "Above section indicates dataset has many missing values (10116)\n",
    "And the dataset has 203128 rows (so NAs account for about 4.9%)\n",
    "I decide to remove all rows contains NA to predict more accurately"
   ],
   "metadata": {
    "collapsed": false
   },
   "id": "ab8a53835951d8dc"
  },
  {
   "cell_type": "code",
   "execution_count": 246,
   "outputs": [],
   "source": [
    "# Remove rows have missing values\n",
    "data.dropna(inplace=True)"
   ],
   "metadata": {
    "collapsed": false,
    "ExecuteTime": {
     "end_time": "2023-10-17T07:05:53.423916Z",
     "start_time": "2023-10-17T07:05:53.394949Z"
    }
   },
   "id": "4aee1b158bb4c4ef"
  },
  {
   "cell_type": "markdown",
   "source": [
    "# 4. Splitting the dataset"
   ],
   "metadata": {
    "collapsed": false
   },
   "id": "997767bbb856e8d1"
  },
  {
   "cell_type": "code",
   "execution_count": 247,
   "outputs": [
    {
     "data": {
      "text/plain": "        trip_id  deviceid  direction  segment        date start_time  \\\n14          1.0     262.0        1.0     15.0  2021-10-01   07:23:38   \n29          8.0     274.0        1.0     15.0  2021-10-01   09:29:44   \n53         15.0     262.0        1.0     15.0  2021-10-01   11:11:22   \n68         21.0     274.0        1.0     15.0  2021-10-01   12:42:07   \n78         22.0     123.0        1.0     15.0  2021-10-01   13:10:16   \n...         ...       ...        ...      ...         ...        ...   \n171203  25364.0    1166.0        1.0     15.0  2022-11-01   17:30:06   \n171216  25366.0    1358.0        1.0     15.0  2022-11-01   17:40:47   \n171231  25368.0     284.0        1.0     15.0  2022-11-01   18:30:22   \n171246  25369.0     513.0        1.0     15.0  2022-11-01   18:47:21   \n171261  25370.0     121.0        1.0     15.0  2022-11-01   18:57:10   \n\n        end_time  run_time_in_seconds  length  weather  \n14      07:27:32                234.0  1.9667        1  \n29      09:34:49                305.0  1.9667        1  \n53      11:17:01                339.0  1.9667        1  \n68      12:46:49                282.0  1.9667        1  \n78      13:16:16                360.0  1.9667        1  \n...          ...                  ...     ...      ...  \n171203  17:35:54                348.0  1.9700        1  \n171216  17:46:45                358.0  1.9700        1  \n171231  18:35:06                284.0  1.9700        1  \n171246  18:52:05                284.0  1.9700        1  \n171261  19:02:30                320.0  1.9700        1  \n\n[6920 rows x 10 columns]",
      "text/html": "<div>\n<style scoped>\n    .dataframe tbody tr th:only-of-type {\n        vertical-align: middle;\n    }\n\n    .dataframe tbody tr th {\n        vertical-align: top;\n    }\n\n    .dataframe thead th {\n        text-align: right;\n    }\n</style>\n<table border=\"1\" class=\"dataframe\">\n  <thead>\n    <tr style=\"text-align: right;\">\n      <th></th>\n      <th>trip_id</th>\n      <th>deviceid</th>\n      <th>direction</th>\n      <th>segment</th>\n      <th>date</th>\n      <th>start_time</th>\n      <th>end_time</th>\n      <th>run_time_in_seconds</th>\n      <th>length</th>\n      <th>weather</th>\n    </tr>\n  </thead>\n  <tbody>\n    <tr>\n      <th>14</th>\n      <td>1.0</td>\n      <td>262.0</td>\n      <td>1.0</td>\n      <td>15.0</td>\n      <td>2021-10-01</td>\n      <td>07:23:38</td>\n      <td>07:27:32</td>\n      <td>234.0</td>\n      <td>1.9667</td>\n      <td>1</td>\n    </tr>\n    <tr>\n      <th>29</th>\n      <td>8.0</td>\n      <td>274.0</td>\n      <td>1.0</td>\n      <td>15.0</td>\n      <td>2021-10-01</td>\n      <td>09:29:44</td>\n      <td>09:34:49</td>\n      <td>305.0</td>\n      <td>1.9667</td>\n      <td>1</td>\n    </tr>\n    <tr>\n      <th>53</th>\n      <td>15.0</td>\n      <td>262.0</td>\n      <td>1.0</td>\n      <td>15.0</td>\n      <td>2021-10-01</td>\n      <td>11:11:22</td>\n      <td>11:17:01</td>\n      <td>339.0</td>\n      <td>1.9667</td>\n      <td>1</td>\n    </tr>\n    <tr>\n      <th>68</th>\n      <td>21.0</td>\n      <td>274.0</td>\n      <td>1.0</td>\n      <td>15.0</td>\n      <td>2021-10-01</td>\n      <td>12:42:07</td>\n      <td>12:46:49</td>\n      <td>282.0</td>\n      <td>1.9667</td>\n      <td>1</td>\n    </tr>\n    <tr>\n      <th>78</th>\n      <td>22.0</td>\n      <td>123.0</td>\n      <td>1.0</td>\n      <td>15.0</td>\n      <td>2021-10-01</td>\n      <td>13:10:16</td>\n      <td>13:16:16</td>\n      <td>360.0</td>\n      <td>1.9667</td>\n      <td>1</td>\n    </tr>\n    <tr>\n      <th>...</th>\n      <td>...</td>\n      <td>...</td>\n      <td>...</td>\n      <td>...</td>\n      <td>...</td>\n      <td>...</td>\n      <td>...</td>\n      <td>...</td>\n      <td>...</td>\n      <td>...</td>\n    </tr>\n    <tr>\n      <th>171203</th>\n      <td>25364.0</td>\n      <td>1166.0</td>\n      <td>1.0</td>\n      <td>15.0</td>\n      <td>2022-11-01</td>\n      <td>17:30:06</td>\n      <td>17:35:54</td>\n      <td>348.0</td>\n      <td>1.9700</td>\n      <td>1</td>\n    </tr>\n    <tr>\n      <th>171216</th>\n      <td>25366.0</td>\n      <td>1358.0</td>\n      <td>1.0</td>\n      <td>15.0</td>\n      <td>2022-11-01</td>\n      <td>17:40:47</td>\n      <td>17:46:45</td>\n      <td>358.0</td>\n      <td>1.9700</td>\n      <td>1</td>\n    </tr>\n    <tr>\n      <th>171231</th>\n      <td>25368.0</td>\n      <td>284.0</td>\n      <td>1.0</td>\n      <td>15.0</td>\n      <td>2022-11-01</td>\n      <td>18:30:22</td>\n      <td>18:35:06</td>\n      <td>284.0</td>\n      <td>1.9700</td>\n      <td>1</td>\n    </tr>\n    <tr>\n      <th>171246</th>\n      <td>25369.0</td>\n      <td>513.0</td>\n      <td>1.0</td>\n      <td>15.0</td>\n      <td>2022-11-01</td>\n      <td>18:47:21</td>\n      <td>18:52:05</td>\n      <td>284.0</td>\n      <td>1.9700</td>\n      <td>1</td>\n    </tr>\n    <tr>\n      <th>171261</th>\n      <td>25370.0</td>\n      <td>121.0</td>\n      <td>1.0</td>\n      <td>15.0</td>\n      <td>2022-11-01</td>\n      <td>18:57:10</td>\n      <td>19:02:30</td>\n      <td>320.0</td>\n      <td>1.9700</td>\n      <td>1</td>\n    </tr>\n  </tbody>\n</table>\n<p>6920 rows × 10 columns</p>\n</div>"
     },
     "execution_count": 247,
     "metadata": {},
     "output_type": "execute_result"
    }
   ],
   "source": [
    "df = data[data['segment']==FILE_SEGMENT]\n",
    "df"
   ],
   "metadata": {
    "collapsed": false,
    "ExecuteTime": {
     "end_time": "2023-10-17T07:05:53.459468Z",
     "start_time": "2023-10-17T07:05:53.416671Z"
    }
   },
   "id": "13537cb0981046ce"
  },
  {
   "cell_type": "markdown",
   "source": [],
   "metadata": {
    "collapsed": false
   },
   "id": "fc7965654ec570cc"
  },
  {
   "cell_type": "markdown",
   "source": [
    "### New Column: Date_in_week\n",
    "Monday - Sunday: convert from colum `date`"
   ],
   "metadata": {
    "collapsed": false
   },
   "id": "cf9f49d8c4dc3d85"
  },
  {
   "cell_type": "code",
   "execution_count": 248,
   "outputs": [
    {
     "name": "stderr",
     "output_type": "stream",
     "text": [
      "/var/folders/2p/0whgchk122l4cc9cl_4xk_ph0000gn/T/ipykernel_68611/200418102.py:2: SettingWithCopyWarning: \n",
      "A value is trying to be set on a copy of a slice from a DataFrame.\n",
      "Try using .loc[row_indexer,col_indexer] = value instead\n",
      "\n",
      "See the caveats in the documentation: https://pandas.pydata.org/pandas-docs/stable/user_guide/indexing.html#returning-a-view-versus-a-copy\n",
      "  df['date'] = pd.to_datetime(df['date'])\n",
      "/var/folders/2p/0whgchk122l4cc9cl_4xk_ph0000gn/T/ipykernel_68611/200418102.py:3: SettingWithCopyWarning: \n",
      "A value is trying to be set on a copy of a slice from a DataFrame.\n",
      "Try using .loc[row_indexer,col_indexer] = value instead\n",
      "\n",
      "See the caveats in the documentation: https://pandas.pydata.org/pandas-docs/stable/user_guide/indexing.html#returning-a-view-versus-a-copy\n",
      "  df['date_in_week'] = df['date'].dt.day_name()\n"
     ]
    },
    {
     "data": {
      "text/plain": "        trip_id  deviceid  direction  segment       date start_time  end_time  \\\n14          1.0     262.0        1.0     15.0 2021-10-01   07:23:38  07:27:32   \n29          8.0     274.0        1.0     15.0 2021-10-01   09:29:44  09:34:49   \n53         15.0     262.0        1.0     15.0 2021-10-01   11:11:22  11:17:01   \n68         21.0     274.0        1.0     15.0 2021-10-01   12:42:07  12:46:49   \n78         22.0     123.0        1.0     15.0 2021-10-01   13:10:16  13:16:16   \n...         ...       ...        ...      ...        ...        ...       ...   \n171203  25364.0    1166.0        1.0     15.0 2022-11-01   17:30:06  17:35:54   \n171216  25366.0    1358.0        1.0     15.0 2022-11-01   17:40:47  17:46:45   \n171231  25368.0     284.0        1.0     15.0 2022-11-01   18:30:22  18:35:06   \n171246  25369.0     513.0        1.0     15.0 2022-11-01   18:47:21  18:52:05   \n171261  25370.0     121.0        1.0     15.0 2022-11-01   18:57:10  19:02:30   \n\n        run_time_in_seconds  length  weather date_in_week  \n14                    234.0  1.9667        1       Friday  \n29                    305.0  1.9667        1       Friday  \n53                    339.0  1.9667        1       Friday  \n68                    282.0  1.9667        1       Friday  \n78                    360.0  1.9667        1       Friday  \n...                     ...     ...      ...          ...  \n171203                348.0  1.9700        1      Tuesday  \n171216                358.0  1.9700        1      Tuesday  \n171231                284.0  1.9700        1      Tuesday  \n171246                284.0  1.9700        1      Tuesday  \n171261                320.0  1.9700        1      Tuesday  \n\n[6920 rows x 11 columns]",
      "text/html": "<div>\n<style scoped>\n    .dataframe tbody tr th:only-of-type {\n        vertical-align: middle;\n    }\n\n    .dataframe tbody tr th {\n        vertical-align: top;\n    }\n\n    .dataframe thead th {\n        text-align: right;\n    }\n</style>\n<table border=\"1\" class=\"dataframe\">\n  <thead>\n    <tr style=\"text-align: right;\">\n      <th></th>\n      <th>trip_id</th>\n      <th>deviceid</th>\n      <th>direction</th>\n      <th>segment</th>\n      <th>date</th>\n      <th>start_time</th>\n      <th>end_time</th>\n      <th>run_time_in_seconds</th>\n      <th>length</th>\n      <th>weather</th>\n      <th>date_in_week</th>\n    </tr>\n  </thead>\n  <tbody>\n    <tr>\n      <th>14</th>\n      <td>1.0</td>\n      <td>262.0</td>\n      <td>1.0</td>\n      <td>15.0</td>\n      <td>2021-10-01</td>\n      <td>07:23:38</td>\n      <td>07:27:32</td>\n      <td>234.0</td>\n      <td>1.9667</td>\n      <td>1</td>\n      <td>Friday</td>\n    </tr>\n    <tr>\n      <th>29</th>\n      <td>8.0</td>\n      <td>274.0</td>\n      <td>1.0</td>\n      <td>15.0</td>\n      <td>2021-10-01</td>\n      <td>09:29:44</td>\n      <td>09:34:49</td>\n      <td>305.0</td>\n      <td>1.9667</td>\n      <td>1</td>\n      <td>Friday</td>\n    </tr>\n    <tr>\n      <th>53</th>\n      <td>15.0</td>\n      <td>262.0</td>\n      <td>1.0</td>\n      <td>15.0</td>\n      <td>2021-10-01</td>\n      <td>11:11:22</td>\n      <td>11:17:01</td>\n      <td>339.0</td>\n      <td>1.9667</td>\n      <td>1</td>\n      <td>Friday</td>\n    </tr>\n    <tr>\n      <th>68</th>\n      <td>21.0</td>\n      <td>274.0</td>\n      <td>1.0</td>\n      <td>15.0</td>\n      <td>2021-10-01</td>\n      <td>12:42:07</td>\n      <td>12:46:49</td>\n      <td>282.0</td>\n      <td>1.9667</td>\n      <td>1</td>\n      <td>Friday</td>\n    </tr>\n    <tr>\n      <th>78</th>\n      <td>22.0</td>\n      <td>123.0</td>\n      <td>1.0</td>\n      <td>15.0</td>\n      <td>2021-10-01</td>\n      <td>13:10:16</td>\n      <td>13:16:16</td>\n      <td>360.0</td>\n      <td>1.9667</td>\n      <td>1</td>\n      <td>Friday</td>\n    </tr>\n    <tr>\n      <th>...</th>\n      <td>...</td>\n      <td>...</td>\n      <td>...</td>\n      <td>...</td>\n      <td>...</td>\n      <td>...</td>\n      <td>...</td>\n      <td>...</td>\n      <td>...</td>\n      <td>...</td>\n      <td>...</td>\n    </tr>\n    <tr>\n      <th>171203</th>\n      <td>25364.0</td>\n      <td>1166.0</td>\n      <td>1.0</td>\n      <td>15.0</td>\n      <td>2022-11-01</td>\n      <td>17:30:06</td>\n      <td>17:35:54</td>\n      <td>348.0</td>\n      <td>1.9700</td>\n      <td>1</td>\n      <td>Tuesday</td>\n    </tr>\n    <tr>\n      <th>171216</th>\n      <td>25366.0</td>\n      <td>1358.0</td>\n      <td>1.0</td>\n      <td>15.0</td>\n      <td>2022-11-01</td>\n      <td>17:40:47</td>\n      <td>17:46:45</td>\n      <td>358.0</td>\n      <td>1.9700</td>\n      <td>1</td>\n      <td>Tuesday</td>\n    </tr>\n    <tr>\n      <th>171231</th>\n      <td>25368.0</td>\n      <td>284.0</td>\n      <td>1.0</td>\n      <td>15.0</td>\n      <td>2022-11-01</td>\n      <td>18:30:22</td>\n      <td>18:35:06</td>\n      <td>284.0</td>\n      <td>1.9700</td>\n      <td>1</td>\n      <td>Tuesday</td>\n    </tr>\n    <tr>\n      <th>171246</th>\n      <td>25369.0</td>\n      <td>513.0</td>\n      <td>1.0</td>\n      <td>15.0</td>\n      <td>2022-11-01</td>\n      <td>18:47:21</td>\n      <td>18:52:05</td>\n      <td>284.0</td>\n      <td>1.9700</td>\n      <td>1</td>\n      <td>Tuesday</td>\n    </tr>\n    <tr>\n      <th>171261</th>\n      <td>25370.0</td>\n      <td>121.0</td>\n      <td>1.0</td>\n      <td>15.0</td>\n      <td>2022-11-01</td>\n      <td>18:57:10</td>\n      <td>19:02:30</td>\n      <td>320.0</td>\n      <td>1.9700</td>\n      <td>1</td>\n      <td>Tuesday</td>\n    </tr>\n  </tbody>\n</table>\n<p>6920 rows × 11 columns</p>\n</div>"
     },
     "execution_count": 248,
     "metadata": {},
     "output_type": "execute_result"
    }
   ],
   "source": [
    "# Extract Weekday, Saturday, Sunday form field Date\n",
    "df['date'] = pd.to_datetime(df['date'])\n",
    "df['date_in_week'] = df['date'].dt.day_name()\n",
    "df"
   ],
   "metadata": {
    "collapsed": false,
    "ExecuteTime": {
     "end_time": "2023-10-17T07:05:53.460189Z",
     "start_time": "2023-10-17T07:05:53.426413Z"
    }
   },
   "id": "7db74081da4b9537"
  },
  {
   "cell_type": "code",
   "execution_count": 249,
   "outputs": [],
   "source": [
    "bins = list(range(4, 25))"
   ],
   "metadata": {
    "collapsed": false,
    "ExecuteTime": {
     "end_time": "2023-10-17T07:05:53.460236Z",
     "start_time": "2023-10-17T07:05:53.434917Z"
    }
   },
   "id": "be3c79b1a8abdb31"
  },
  {
   "cell_type": "code",
   "execution_count": 250,
   "outputs": [],
   "source": [
    "labels = ['{}-{}'.format(i, i + 1) for i in bins[:-1]]"
   ],
   "metadata": {
    "collapsed": false,
    "ExecuteTime": {
     "end_time": "2023-10-17T07:05:53.460271Z",
     "start_time": "2023-10-17T07:05:53.437030Z"
    }
   },
   "id": "20c18b271488f81f"
  },
  {
   "cell_type": "code",
   "execution_count": 250,
   "outputs": [],
   "source": [],
   "metadata": {
    "collapsed": false,
    "ExecuteTime": {
     "end_time": "2023-10-17T07:05:53.460303Z",
     "start_time": "2023-10-17T07:05:53.440445Z"
    }
   },
   "id": "a2346a1fa166e292"
  },
  {
   "cell_type": "markdown",
   "source": [
    "### Extract `hour` and `time_interval` column"
   ],
   "metadata": {
    "collapsed": false
   },
   "id": "76f7ff2955e20fae"
  },
  {
   "cell_type": "code",
   "execution_count": 251,
   "outputs": [
    {
     "name": "stderr",
     "output_type": "stream",
     "text": [
      "/var/folders/2p/0whgchk122l4cc9cl_4xk_ph0000gn/T/ipykernel_68611/1510654388.py:1: UserWarning: Could not infer format, so each element will be parsed individually, falling back to `dateutil`. To ensure parsing is consistent and as-expected, please specify a format.\n",
      "  df['hour'] = pd.to_datetime(df['start_time']).dt.hour\n",
      "/var/folders/2p/0whgchk122l4cc9cl_4xk_ph0000gn/T/ipykernel_68611/1510654388.py:1: SettingWithCopyWarning: \n",
      "A value is trying to be set on a copy of a slice from a DataFrame.\n",
      "Try using .loc[row_indexer,col_indexer] = value instead\n",
      "\n",
      "See the caveats in the documentation: https://pandas.pydata.org/pandas-docs/stable/user_guide/indexing.html#returning-a-view-versus-a-copy\n",
      "  df['hour'] = pd.to_datetime(df['start_time']).dt.hour\n",
      "/var/folders/2p/0whgchk122l4cc9cl_4xk_ph0000gn/T/ipykernel_68611/1510654388.py:2: SettingWithCopyWarning: \n",
      "A value is trying to be set on a copy of a slice from a DataFrame.\n",
      "Try using .loc[row_indexer,col_indexer] = value instead\n",
      "\n",
      "See the caveats in the documentation: https://pandas.pydata.org/pandas-docs/stable/user_guide/indexing.html#returning-a-view-versus-a-copy\n",
      "  df['time_interval'] = pd.cut(df['hour'], bins=bins, labels=labels, right=False)\n"
     ]
    },
    {
     "data": {
      "text/plain": "        trip_id  deviceid  direction  segment       date start_time  end_time  \\\n14          1.0     262.0        1.0     15.0 2021-10-01   07:23:38  07:27:32   \n29          8.0     274.0        1.0     15.0 2021-10-01   09:29:44  09:34:49   \n53         15.0     262.0        1.0     15.0 2021-10-01   11:11:22  11:17:01   \n68         21.0     274.0        1.0     15.0 2021-10-01   12:42:07  12:46:49   \n78         22.0     123.0        1.0     15.0 2021-10-01   13:10:16  13:16:16   \n...         ...       ...        ...      ...        ...        ...       ...   \n171203  25364.0    1166.0        1.0     15.0 2022-11-01   17:30:06  17:35:54   \n171216  25366.0    1358.0        1.0     15.0 2022-11-01   17:40:47  17:46:45   \n171231  25368.0     284.0        1.0     15.0 2022-11-01   18:30:22  18:35:06   \n171246  25369.0     513.0        1.0     15.0 2022-11-01   18:47:21  18:52:05   \n171261  25370.0     121.0        1.0     15.0 2022-11-01   18:57:10  19:02:30   \n\n        run_time_in_seconds  length  weather date_in_week  hour time_interval  \n14                    234.0  1.9667        1       Friday     7           7-8  \n29                    305.0  1.9667        1       Friday     9          9-10  \n53                    339.0  1.9667        1       Friday    11         11-12  \n68                    282.0  1.9667        1       Friday    12         12-13  \n78                    360.0  1.9667        1       Friday    13         13-14  \n...                     ...     ...      ...          ...   ...           ...  \n171203                348.0  1.9700        1      Tuesday    17         17-18  \n171216                358.0  1.9700        1      Tuesday    17         17-18  \n171231                284.0  1.9700        1      Tuesday    18         18-19  \n171246                284.0  1.9700        1      Tuesday    18         18-19  \n171261                320.0  1.9700        1      Tuesday    18         18-19  \n\n[6920 rows x 13 columns]",
      "text/html": "<div>\n<style scoped>\n    .dataframe tbody tr th:only-of-type {\n        vertical-align: middle;\n    }\n\n    .dataframe tbody tr th {\n        vertical-align: top;\n    }\n\n    .dataframe thead th {\n        text-align: right;\n    }\n</style>\n<table border=\"1\" class=\"dataframe\">\n  <thead>\n    <tr style=\"text-align: right;\">\n      <th></th>\n      <th>trip_id</th>\n      <th>deviceid</th>\n      <th>direction</th>\n      <th>segment</th>\n      <th>date</th>\n      <th>start_time</th>\n      <th>end_time</th>\n      <th>run_time_in_seconds</th>\n      <th>length</th>\n      <th>weather</th>\n      <th>date_in_week</th>\n      <th>hour</th>\n      <th>time_interval</th>\n    </tr>\n  </thead>\n  <tbody>\n    <tr>\n      <th>14</th>\n      <td>1.0</td>\n      <td>262.0</td>\n      <td>1.0</td>\n      <td>15.0</td>\n      <td>2021-10-01</td>\n      <td>07:23:38</td>\n      <td>07:27:32</td>\n      <td>234.0</td>\n      <td>1.9667</td>\n      <td>1</td>\n      <td>Friday</td>\n      <td>7</td>\n      <td>7-8</td>\n    </tr>\n    <tr>\n      <th>29</th>\n      <td>8.0</td>\n      <td>274.0</td>\n      <td>1.0</td>\n      <td>15.0</td>\n      <td>2021-10-01</td>\n      <td>09:29:44</td>\n      <td>09:34:49</td>\n      <td>305.0</td>\n      <td>1.9667</td>\n      <td>1</td>\n      <td>Friday</td>\n      <td>9</td>\n      <td>9-10</td>\n    </tr>\n    <tr>\n      <th>53</th>\n      <td>15.0</td>\n      <td>262.0</td>\n      <td>1.0</td>\n      <td>15.0</td>\n      <td>2021-10-01</td>\n      <td>11:11:22</td>\n      <td>11:17:01</td>\n      <td>339.0</td>\n      <td>1.9667</td>\n      <td>1</td>\n      <td>Friday</td>\n      <td>11</td>\n      <td>11-12</td>\n    </tr>\n    <tr>\n      <th>68</th>\n      <td>21.0</td>\n      <td>274.0</td>\n      <td>1.0</td>\n      <td>15.0</td>\n      <td>2021-10-01</td>\n      <td>12:42:07</td>\n      <td>12:46:49</td>\n      <td>282.0</td>\n      <td>1.9667</td>\n      <td>1</td>\n      <td>Friday</td>\n      <td>12</td>\n      <td>12-13</td>\n    </tr>\n    <tr>\n      <th>78</th>\n      <td>22.0</td>\n      <td>123.0</td>\n      <td>1.0</td>\n      <td>15.0</td>\n      <td>2021-10-01</td>\n      <td>13:10:16</td>\n      <td>13:16:16</td>\n      <td>360.0</td>\n      <td>1.9667</td>\n      <td>1</td>\n      <td>Friday</td>\n      <td>13</td>\n      <td>13-14</td>\n    </tr>\n    <tr>\n      <th>...</th>\n      <td>...</td>\n      <td>...</td>\n      <td>...</td>\n      <td>...</td>\n      <td>...</td>\n      <td>...</td>\n      <td>...</td>\n      <td>...</td>\n      <td>...</td>\n      <td>...</td>\n      <td>...</td>\n      <td>...</td>\n      <td>...</td>\n    </tr>\n    <tr>\n      <th>171203</th>\n      <td>25364.0</td>\n      <td>1166.0</td>\n      <td>1.0</td>\n      <td>15.0</td>\n      <td>2022-11-01</td>\n      <td>17:30:06</td>\n      <td>17:35:54</td>\n      <td>348.0</td>\n      <td>1.9700</td>\n      <td>1</td>\n      <td>Tuesday</td>\n      <td>17</td>\n      <td>17-18</td>\n    </tr>\n    <tr>\n      <th>171216</th>\n      <td>25366.0</td>\n      <td>1358.0</td>\n      <td>1.0</td>\n      <td>15.0</td>\n      <td>2022-11-01</td>\n      <td>17:40:47</td>\n      <td>17:46:45</td>\n      <td>358.0</td>\n      <td>1.9700</td>\n      <td>1</td>\n      <td>Tuesday</td>\n      <td>17</td>\n      <td>17-18</td>\n    </tr>\n    <tr>\n      <th>171231</th>\n      <td>25368.0</td>\n      <td>284.0</td>\n      <td>1.0</td>\n      <td>15.0</td>\n      <td>2022-11-01</td>\n      <td>18:30:22</td>\n      <td>18:35:06</td>\n      <td>284.0</td>\n      <td>1.9700</td>\n      <td>1</td>\n      <td>Tuesday</td>\n      <td>18</td>\n      <td>18-19</td>\n    </tr>\n    <tr>\n      <th>171246</th>\n      <td>25369.0</td>\n      <td>513.0</td>\n      <td>1.0</td>\n      <td>15.0</td>\n      <td>2022-11-01</td>\n      <td>18:47:21</td>\n      <td>18:52:05</td>\n      <td>284.0</td>\n      <td>1.9700</td>\n      <td>1</td>\n      <td>Tuesday</td>\n      <td>18</td>\n      <td>18-19</td>\n    </tr>\n    <tr>\n      <th>171261</th>\n      <td>25370.0</td>\n      <td>121.0</td>\n      <td>1.0</td>\n      <td>15.0</td>\n      <td>2022-11-01</td>\n      <td>18:57:10</td>\n      <td>19:02:30</td>\n      <td>320.0</td>\n      <td>1.9700</td>\n      <td>1</td>\n      <td>Tuesday</td>\n      <td>18</td>\n      <td>18-19</td>\n    </tr>\n  </tbody>\n</table>\n<p>6920 rows × 13 columns</p>\n</div>"
     },
     "execution_count": 251,
     "metadata": {},
     "output_type": "execute_result"
    }
   ],
   "source": [
    "df['start_time'] = pd.to_datetime(df['start_time'])\n",
    "df['hour'] = df['start_time'].dt.hour\n",
    "df['time_interval'] = pd.cut(df['hour'], bins=bins, labels=labels, right=False)\n",
    "df"
   ],
   "metadata": {
    "collapsed": false,
    "ExecuteTime": {
     "end_time": "2023-10-17T07:05:53.524960Z",
     "start_time": "2023-10-17T07:05:53.486906Z"
    }
   },
   "id": "a6ccc92b1e58c6ea"
  },
  {
   "cell_type": "markdown",
   "source": [
    "## New Column: Part_Of_Day\n",
    " Early Morning: 3-7 (hour)\n",
    "Morning: 7-10\n",
    " Noon: 10-14\n",
    "Afternoon: 14-17\n",
    "Evening: 17-20\n",
    "Night: 20-24"
   ],
   "metadata": {
    "collapsed": false
   },
   "id": "1340d7092a9090f3"
  },
  {
   "cell_type": "code",
   "execution_count": 252,
   "outputs": [
    {
     "name": "stderr",
     "output_type": "stream",
     "text": [
      "/var/folders/2p/0whgchk122l4cc9cl_4xk_ph0000gn/T/ipykernel_68611/2365190794.py:6: SettingWithCopyWarning: \n",
      "A value is trying to be set on a copy of a slice from a DataFrame.\n",
      "Try using .loc[row_indexer,col_indexer] = value instead\n",
      "\n",
      "See the caveats in the documentation: https://pandas.pydata.org/pandas-docs/stable/user_guide/indexing.html#returning-a-view-versus-a-copy\n",
      "  df['part_of_day'] = df['hour'].apply(hour_to_part)\n"
     ]
    },
    {
     "data": {
      "text/plain": "        trip_id  deviceid  direction  segment       date start_time  end_time  \\\n14          1.0     262.0        1.0     15.0 2021-10-01   07:23:38  07:27:32   \n29          8.0     274.0        1.0     15.0 2021-10-01   09:29:44  09:34:49   \n53         15.0     262.0        1.0     15.0 2021-10-01   11:11:22  11:17:01   \n68         21.0     274.0        1.0     15.0 2021-10-01   12:42:07  12:46:49   \n78         22.0     123.0        1.0     15.0 2021-10-01   13:10:16  13:16:16   \n...         ...       ...        ...      ...        ...        ...       ...   \n171203  25364.0    1166.0        1.0     15.0 2022-11-01   17:30:06  17:35:54   \n171216  25366.0    1358.0        1.0     15.0 2022-11-01   17:40:47  17:46:45   \n171231  25368.0     284.0        1.0     15.0 2022-11-01   18:30:22  18:35:06   \n171246  25369.0     513.0        1.0     15.0 2022-11-01   18:47:21  18:52:05   \n171261  25370.0     121.0        1.0     15.0 2022-11-01   18:57:10  19:02:30   \n\n        run_time_in_seconds  length  weather date_in_week  hour time_interval  \\\n14                    234.0  1.9667        1       Friday     7           7-8   \n29                    305.0  1.9667        1       Friday     9          9-10   \n53                    339.0  1.9667        1       Friday    11         11-12   \n68                    282.0  1.9667        1       Friday    12         12-13   \n78                    360.0  1.9667        1       Friday    13         13-14   \n...                     ...     ...      ...          ...   ...           ...   \n171203                348.0  1.9700        1      Tuesday    17         17-18   \n171216                358.0  1.9700        1      Tuesday    17         17-18   \n171231                284.0  1.9700        1      Tuesday    18         18-19   \n171246                284.0  1.9700        1      Tuesday    18         18-19   \n171261                320.0  1.9700        1      Tuesday    18         18-19   \n\n       part_of_day  \n14         morning  \n29         morning  \n53         morning  \n68         morning  \n78       afternoon  \n...            ...  \n171203   afternoon  \n171216   afternoon  \n171231   afternoon  \n171246   afternoon  \n171261   afternoon  \n\n[6920 rows x 14 columns]",
      "text/html": "<div>\n<style scoped>\n    .dataframe tbody tr th:only-of-type {\n        vertical-align: middle;\n    }\n\n    .dataframe tbody tr th {\n        vertical-align: top;\n    }\n\n    .dataframe thead th {\n        text-align: right;\n    }\n</style>\n<table border=\"1\" class=\"dataframe\">\n  <thead>\n    <tr style=\"text-align: right;\">\n      <th></th>\n      <th>trip_id</th>\n      <th>deviceid</th>\n      <th>direction</th>\n      <th>segment</th>\n      <th>date</th>\n      <th>start_time</th>\n      <th>end_time</th>\n      <th>run_time_in_seconds</th>\n      <th>length</th>\n      <th>weather</th>\n      <th>date_in_week</th>\n      <th>hour</th>\n      <th>time_interval</th>\n      <th>part_of_day</th>\n    </tr>\n  </thead>\n  <tbody>\n    <tr>\n      <th>14</th>\n      <td>1.0</td>\n      <td>262.0</td>\n      <td>1.0</td>\n      <td>15.0</td>\n      <td>2021-10-01</td>\n      <td>07:23:38</td>\n      <td>07:27:32</td>\n      <td>234.0</td>\n      <td>1.9667</td>\n      <td>1</td>\n      <td>Friday</td>\n      <td>7</td>\n      <td>7-8</td>\n      <td>morning</td>\n    </tr>\n    <tr>\n      <th>29</th>\n      <td>8.0</td>\n      <td>274.0</td>\n      <td>1.0</td>\n      <td>15.0</td>\n      <td>2021-10-01</td>\n      <td>09:29:44</td>\n      <td>09:34:49</td>\n      <td>305.0</td>\n      <td>1.9667</td>\n      <td>1</td>\n      <td>Friday</td>\n      <td>9</td>\n      <td>9-10</td>\n      <td>morning</td>\n    </tr>\n    <tr>\n      <th>53</th>\n      <td>15.0</td>\n      <td>262.0</td>\n      <td>1.0</td>\n      <td>15.0</td>\n      <td>2021-10-01</td>\n      <td>11:11:22</td>\n      <td>11:17:01</td>\n      <td>339.0</td>\n      <td>1.9667</td>\n      <td>1</td>\n      <td>Friday</td>\n      <td>11</td>\n      <td>11-12</td>\n      <td>morning</td>\n    </tr>\n    <tr>\n      <th>68</th>\n      <td>21.0</td>\n      <td>274.0</td>\n      <td>1.0</td>\n      <td>15.0</td>\n      <td>2021-10-01</td>\n      <td>12:42:07</td>\n      <td>12:46:49</td>\n      <td>282.0</td>\n      <td>1.9667</td>\n      <td>1</td>\n      <td>Friday</td>\n      <td>12</td>\n      <td>12-13</td>\n      <td>morning</td>\n    </tr>\n    <tr>\n      <th>78</th>\n      <td>22.0</td>\n      <td>123.0</td>\n      <td>1.0</td>\n      <td>15.0</td>\n      <td>2021-10-01</td>\n      <td>13:10:16</td>\n      <td>13:16:16</td>\n      <td>360.0</td>\n      <td>1.9667</td>\n      <td>1</td>\n      <td>Friday</td>\n      <td>13</td>\n      <td>13-14</td>\n      <td>afternoon</td>\n    </tr>\n    <tr>\n      <th>...</th>\n      <td>...</td>\n      <td>...</td>\n      <td>...</td>\n      <td>...</td>\n      <td>...</td>\n      <td>...</td>\n      <td>...</td>\n      <td>...</td>\n      <td>...</td>\n      <td>...</td>\n      <td>...</td>\n      <td>...</td>\n      <td>...</td>\n      <td>...</td>\n    </tr>\n    <tr>\n      <th>171203</th>\n      <td>25364.0</td>\n      <td>1166.0</td>\n      <td>1.0</td>\n      <td>15.0</td>\n      <td>2022-11-01</td>\n      <td>17:30:06</td>\n      <td>17:35:54</td>\n      <td>348.0</td>\n      <td>1.9700</td>\n      <td>1</td>\n      <td>Tuesday</td>\n      <td>17</td>\n      <td>17-18</td>\n      <td>afternoon</td>\n    </tr>\n    <tr>\n      <th>171216</th>\n      <td>25366.0</td>\n      <td>1358.0</td>\n      <td>1.0</td>\n      <td>15.0</td>\n      <td>2022-11-01</td>\n      <td>17:40:47</td>\n      <td>17:46:45</td>\n      <td>358.0</td>\n      <td>1.9700</td>\n      <td>1</td>\n      <td>Tuesday</td>\n      <td>17</td>\n      <td>17-18</td>\n      <td>afternoon</td>\n    </tr>\n    <tr>\n      <th>171231</th>\n      <td>25368.0</td>\n      <td>284.0</td>\n      <td>1.0</td>\n      <td>15.0</td>\n      <td>2022-11-01</td>\n      <td>18:30:22</td>\n      <td>18:35:06</td>\n      <td>284.0</td>\n      <td>1.9700</td>\n      <td>1</td>\n      <td>Tuesday</td>\n      <td>18</td>\n      <td>18-19</td>\n      <td>afternoon</td>\n    </tr>\n    <tr>\n      <th>171246</th>\n      <td>25369.0</td>\n      <td>513.0</td>\n      <td>1.0</td>\n      <td>15.0</td>\n      <td>2022-11-01</td>\n      <td>18:47:21</td>\n      <td>18:52:05</td>\n      <td>284.0</td>\n      <td>1.9700</td>\n      <td>1</td>\n      <td>Tuesday</td>\n      <td>18</td>\n      <td>18-19</td>\n      <td>afternoon</td>\n    </tr>\n    <tr>\n      <th>171261</th>\n      <td>25370.0</td>\n      <td>121.0</td>\n      <td>1.0</td>\n      <td>15.0</td>\n      <td>2022-11-01</td>\n      <td>18:57:10</td>\n      <td>19:02:30</td>\n      <td>320.0</td>\n      <td>1.9700</td>\n      <td>1</td>\n      <td>Tuesday</td>\n      <td>18</td>\n      <td>18-19</td>\n      <td>afternoon</td>\n    </tr>\n  </tbody>\n</table>\n<p>6920 rows × 14 columns</p>\n</div>"
     },
     "execution_count": 252,
     "metadata": {},
     "output_type": "execute_result"
    }
   ],
   "source": [
    "def hour_to_part(hour):\n",
    "    if (3<=hour<=12): return \"morning\" \n",
    "    if (12<hour<=18): return \"afternoon\"\n",
    "    if (18<hour<=24): return \"evening\"\n",
    "    # if (21<hour<=24): return \"night\"\n",
    "    # if (17<hour<20): return \"evening\"\n",
    "    # if (20<=hour<=24): return \"night\"\n",
    " \n",
    "df['part_of_day'] = df['hour'].apply(hour_to_part)\n",
    "df"
   ],
   "metadata": {
    "collapsed": false,
    "ExecuteTime": {
     "end_time": "2023-10-17T07:05:53.525442Z",
     "start_time": "2023-10-17T07:05:53.520694Z"
    }
   },
   "id": "731c7b947d0df928"
  },
  {
   "cell_type": "code",
   "execution_count": 253,
   "outputs": [],
   "source": [
    "df.to_csv(f'./segment{FILE_SEGMENT}.csv', header=True)"
   ],
   "metadata": {
    "collapsed": false,
    "ExecuteTime": {
     "end_time": "2023-10-17T07:05:53.564956Z",
     "start_time": "2023-10-17T07:05:53.523584Z"
    }
   },
   "id": "feb2f5a9205ae2be"
  },
  {
   "cell_type": "code",
   "execution_count": 29,
   "outputs": [],
   "source": [],
   "metadata": {
    "collapsed": false,
    "ExecuteTime": {
     "end_time": "2023-10-17T04:40:20.879655Z",
     "start_time": "2023-10-17T04:40:20.846508Z"
    }
   },
   "id": "16846463136026dd"
  }
 ],
 "metadata": {
  "kernelspec": {
   "display_name": "Python 3",
   "language": "python",
   "name": "python3"
  },
  "language_info": {
   "codemirror_mode": {
    "name": "ipython",
    "version": 2
   },
   "file_extension": ".py",
   "mimetype": "text/x-python",
   "name": "python",
   "nbconvert_exporter": "python",
   "pygments_lexer": "ipython2",
   "version": "2.7.6"
  }
 },
 "nbformat": 4,
 "nbformat_minor": 5
}
